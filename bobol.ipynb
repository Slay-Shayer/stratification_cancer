{
 "cells": [
  {
   "cell_type": "code",
   "execution_count": 520,
   "id": "a2c5b635",
   "metadata": {},
   "outputs": [],
   "source": [
    "import pandas as pd\n",
    "import numpy as np\n",
    "import os\n",
    "import matplotlib.pyplot as plt\n",
    "import seaborn as sns"
   ]
  },
  {
   "cell_type": "code",
   "execution_count": 521,
   "id": "f6cc2f18",
   "metadata": {},
   "outputs": [],
   "source": [
    "df = pd.read_csv(r'C:\\python\\bobolfile\\U.S._Chronic_Disease_Indicators_20250329.csv')"
   ]
  },
  {
   "cell_type": "code",
   "execution_count": 522,
   "id": "33b1d88c",
   "metadata": {},
   "outputs": [
    {
     "data": {
      "text/html": [
       "<div>\n",
       "<style scoped>\n",
       "    .dataframe tbody tr th:only-of-type {\n",
       "        vertical-align: middle;\n",
       "    }\n",
       "\n",
       "    .dataframe tbody tr th {\n",
       "        vertical-align: top;\n",
       "    }\n",
       "\n",
       "    .dataframe thead th {\n",
       "        text-align: right;\n",
       "    }\n",
       "</style>\n",
       "<table border=\"1\" class=\"dataframe\">\n",
       "  <thead>\n",
       "    <tr style=\"text-align: right;\">\n",
       "      <th></th>\n",
       "      <th>YearStart</th>\n",
       "      <th>YearEnd</th>\n",
       "      <th>LocationAbbr</th>\n",
       "      <th>LocationDesc</th>\n",
       "      <th>DataSource</th>\n",
       "      <th>Topic</th>\n",
       "      <th>Question</th>\n",
       "      <th>Response</th>\n",
       "      <th>DataValueUnit</th>\n",
       "      <th>DataValueType</th>\n",
       "      <th>...</th>\n",
       "      <th>TopicID</th>\n",
       "      <th>QuestionID</th>\n",
       "      <th>ResponseID</th>\n",
       "      <th>DataValueTypeID</th>\n",
       "      <th>StratificationCategoryID1</th>\n",
       "      <th>StratificationID1</th>\n",
       "      <th>StratificationCategoryID2</th>\n",
       "      <th>StratificationID2</th>\n",
       "      <th>StratificationCategoryID3</th>\n",
       "      <th>StratificationID3</th>\n",
       "    </tr>\n",
       "  </thead>\n",
       "  <tbody>\n",
       "    <tr>\n",
       "      <th>0</th>\n",
       "      <td>2019</td>\n",
       "      <td>2019</td>\n",
       "      <td>AR</td>\n",
       "      <td>Arkansas</td>\n",
       "      <td>BRFSS</td>\n",
       "      <td>Diabetes</td>\n",
       "      <td>Diabetes among adults</td>\n",
       "      <td>NaN</td>\n",
       "      <td>%</td>\n",
       "      <td>Crude Prevalence</td>\n",
       "      <td>...</td>\n",
       "      <td>DIA</td>\n",
       "      <td>DIA01</td>\n",
       "      <td>NaN</td>\n",
       "      <td>CRDPREV</td>\n",
       "      <td>SEX</td>\n",
       "      <td>SEXM</td>\n",
       "      <td>NaN</td>\n",
       "      <td>NaN</td>\n",
       "      <td>NaN</td>\n",
       "      <td>NaN</td>\n",
       "    </tr>\n",
       "    <tr>\n",
       "      <th>1</th>\n",
       "      <td>2019</td>\n",
       "      <td>2019</td>\n",
       "      <td>ID</td>\n",
       "      <td>Idaho</td>\n",
       "      <td>BRFSS</td>\n",
       "      <td>Diabetes</td>\n",
       "      <td>Diabetes among adults</td>\n",
       "      <td>NaN</td>\n",
       "      <td>%</td>\n",
       "      <td>Crude Prevalence</td>\n",
       "      <td>...</td>\n",
       "      <td>DIA</td>\n",
       "      <td>DIA01</td>\n",
       "      <td>NaN</td>\n",
       "      <td>CRDPREV</td>\n",
       "      <td>SEX</td>\n",
       "      <td>SEXM</td>\n",
       "      <td>NaN</td>\n",
       "      <td>NaN</td>\n",
       "      <td>NaN</td>\n",
       "      <td>NaN</td>\n",
       "    </tr>\n",
       "  </tbody>\n",
       "</table>\n",
       "<p>2 rows × 34 columns</p>\n",
       "</div>"
      ],
      "text/plain": [
       "   YearStart  YearEnd LocationAbbr LocationDesc DataSource     Topic  \\\n",
       "0       2019     2019           AR     Arkansas      BRFSS  Diabetes   \n",
       "1       2019     2019           ID        Idaho      BRFSS  Diabetes   \n",
       "\n",
       "                Question  Response DataValueUnit     DataValueType  ...  \\\n",
       "0  Diabetes among adults       NaN             %  Crude Prevalence  ...   \n",
       "1  Diabetes among adults       NaN             %  Crude Prevalence  ...   \n",
       "\n",
       "   TopicID  QuestionID ResponseID DataValueTypeID  StratificationCategoryID1  \\\n",
       "0      DIA       DIA01        NaN         CRDPREV                        SEX   \n",
       "1      DIA       DIA01        NaN         CRDPREV                        SEX   \n",
       "\n",
       "   StratificationID1 StratificationCategoryID2 StratificationID2  \\\n",
       "0               SEXM                       NaN               NaN   \n",
       "1               SEXM                       NaN               NaN   \n",
       "\n",
       "   StratificationCategoryID3  StratificationID3  \n",
       "0                        NaN                NaN  \n",
       "1                        NaN                NaN  \n",
       "\n",
       "[2 rows x 34 columns]"
      ]
     },
     "execution_count": 522,
     "metadata": {},
     "output_type": "execute_result"
    }
   ],
   "source": [
    "df.head(2)"
   ]
  },
  {
   "cell_type": "code",
   "execution_count": 523,
   "id": "f2ca3b54",
   "metadata": {},
   "outputs": [
    {
     "data": {
      "text/html": [
       "<div>\n",
       "<style scoped>\n",
       "    .dataframe tbody tr th:only-of-type {\n",
       "        vertical-align: middle;\n",
       "    }\n",
       "\n",
       "    .dataframe tbody tr th {\n",
       "        vertical-align: top;\n",
       "    }\n",
       "\n",
       "    .dataframe thead th {\n",
       "        text-align: right;\n",
       "    }\n",
       "</style>\n",
       "<table border=\"1\" class=\"dataframe\">\n",
       "  <thead>\n",
       "    <tr style=\"text-align: right;\">\n",
       "      <th></th>\n",
       "      <th>YearStart</th>\n",
       "      <th>YearEnd</th>\n",
       "      <th>LocationAbbr</th>\n",
       "      <th>LocationDesc</th>\n",
       "      <th>DataSource</th>\n",
       "      <th>Topic</th>\n",
       "      <th>Question</th>\n",
       "      <th>Response</th>\n",
       "      <th>DataValueUnit</th>\n",
       "      <th>DataValueType</th>\n",
       "      <th>...</th>\n",
       "      <th>TopicID</th>\n",
       "      <th>QuestionID</th>\n",
       "      <th>ResponseID</th>\n",
       "      <th>DataValueTypeID</th>\n",
       "      <th>StratificationCategoryID1</th>\n",
       "      <th>StratificationID1</th>\n",
       "      <th>StratificationCategoryID2</th>\n",
       "      <th>StratificationID2</th>\n",
       "      <th>StratificationCategoryID3</th>\n",
       "      <th>StratificationID3</th>\n",
       "    </tr>\n",
       "  </thead>\n",
       "  <tbody>\n",
       "    <tr>\n",
       "      <th>112</th>\n",
       "      <td>2015</td>\n",
       "      <td>2019</td>\n",
       "      <td>OH</td>\n",
       "      <td>Ohio</td>\n",
       "      <td>US Cancer DVT</td>\n",
       "      <td>Cancer</td>\n",
       "      <td>Invasive cancer (all sites combined), incidence</td>\n",
       "      <td>NaN</td>\n",
       "      <td>Number</td>\n",
       "      <td>Number</td>\n",
       "      <td>...</td>\n",
       "      <td>CAN</td>\n",
       "      <td>CAN07</td>\n",
       "      <td>NaN</td>\n",
       "      <td>NMBR</td>\n",
       "      <td>SEX</td>\n",
       "      <td>SEXF</td>\n",
       "      <td>NaN</td>\n",
       "      <td>NaN</td>\n",
       "      <td>NaN</td>\n",
       "      <td>NaN</td>\n",
       "    </tr>\n",
       "    <tr>\n",
       "      <th>113</th>\n",
       "      <td>2015</td>\n",
       "      <td>2019</td>\n",
       "      <td>ID</td>\n",
       "      <td>Idaho</td>\n",
       "      <td>US Cancer DVT</td>\n",
       "      <td>Cancer</td>\n",
       "      <td>Invasive cancer (all sites combined) mortality...</td>\n",
       "      <td>NaN</td>\n",
       "      <td>per 100,000</td>\n",
       "      <td>Age-adjusted Rate</td>\n",
       "      <td>...</td>\n",
       "      <td>CAN</td>\n",
       "      <td>CAN08</td>\n",
       "      <td>NaN</td>\n",
       "      <td>AGEADJRATE</td>\n",
       "      <td>RACE</td>\n",
       "      <td>AIAN</td>\n",
       "      <td>NaN</td>\n",
       "      <td>NaN</td>\n",
       "      <td>NaN</td>\n",
       "      <td>NaN</td>\n",
       "    </tr>\n",
       "  </tbody>\n",
       "</table>\n",
       "<p>2 rows × 34 columns</p>\n",
       "</div>"
      ],
      "text/plain": [
       "     YearStart  YearEnd LocationAbbr LocationDesc     DataSource   Topic  \\\n",
       "112       2015     2019           OH         Ohio  US Cancer DVT  Cancer   \n",
       "113       2015     2019           ID        Idaho  US Cancer DVT  Cancer   \n",
       "\n",
       "                                              Question  Response  \\\n",
       "112    Invasive cancer (all sites combined), incidence       NaN   \n",
       "113  Invasive cancer (all sites combined) mortality...       NaN   \n",
       "\n",
       "    DataValueUnit      DataValueType  ...  TopicID  QuestionID ResponseID  \\\n",
       "112        Number             Number  ...      CAN       CAN07        NaN   \n",
       "113   per 100,000  Age-adjusted Rate  ...      CAN       CAN08        NaN   \n",
       "\n",
       "    DataValueTypeID  StratificationCategoryID1  StratificationID1  \\\n",
       "112            NMBR                        SEX               SEXF   \n",
       "113      AGEADJRATE                       RACE               AIAN   \n",
       "\n",
       "    StratificationCategoryID2 StratificationID2  StratificationCategoryID3  \\\n",
       "112                       NaN               NaN                        NaN   \n",
       "113                       NaN               NaN                        NaN   \n",
       "\n",
       "     StratificationID3  \n",
       "112                NaN  \n",
       "113                NaN  \n",
       "\n",
       "[2 rows x 34 columns]"
      ]
     },
     "execution_count": 523,
     "metadata": {},
     "output_type": "execute_result"
    }
   ],
   "source": [
    "cancer = df[df[\"Topic\"] == \"Cancer\"]\n",
    "cancer.head(2)"
   ]
  },
  {
   "cell_type": "code",
   "execution_count": 524,
   "id": "11020ef3",
   "metadata": {},
   "outputs": [
    {
     "data": {
      "text/plain": [
       "Index(['YearStart', 'YearEnd', 'LocationAbbr', 'LocationDesc', 'DataSource',\n",
       "       'Topic', 'Question', 'Response', 'DataValueUnit', 'DataValueType',\n",
       "       'DataValue', 'DataValueAlt', 'DataValueFootnoteSymbol',\n",
       "       'DataValueFootnote', 'LowConfidenceLimit', 'HighConfidenceLimit',\n",
       "       'StratificationCategory1', 'Stratification1', 'StratificationCategory2',\n",
       "       'Stratification2', 'StratificationCategory3', 'Stratification3',\n",
       "       'Geolocation', 'LocationID', 'TopicID', 'QuestionID', 'ResponseID',\n",
       "       'DataValueTypeID', 'StratificationCategoryID1', 'StratificationID1',\n",
       "       'StratificationCategoryID2', 'StratificationID2',\n",
       "       'StratificationCategoryID3', 'StratificationID3'],\n",
       "      dtype='object')"
      ]
     },
     "execution_count": 524,
     "metadata": {},
     "output_type": "execute_result"
    }
   ],
   "source": [
    "cancer.columns"
   ]
  },
  {
   "cell_type": "code",
   "execution_count": 525,
   "id": "3768e9e7",
   "metadata": {},
   "outputs": [
    {
     "data": {
      "text/plain": [
       "YearStart                      int64\n",
       "YearEnd                        int64\n",
       "LocationAbbr                  object\n",
       "LocationDesc                  object\n",
       "DataSource                    object\n",
       "Topic                         object\n",
       "Question                      object\n",
       "Response                     float64\n",
       "DataValueUnit                 object\n",
       "DataValueType                 object\n",
       "DataValue                    float64\n",
       "DataValueAlt                 float64\n",
       "DataValueFootnoteSymbol       object\n",
       "DataValueFootnote             object\n",
       "LowConfidenceLimit           float64\n",
       "HighConfidenceLimit          float64\n",
       "StratificationCategory1       object\n",
       "Stratification1               object\n",
       "StratificationCategory2      float64\n",
       "Stratification2              float64\n",
       "StratificationCategory3      float64\n",
       "Stratification3              float64\n",
       "Geolocation                   object\n",
       "LocationID                     int64\n",
       "TopicID                       object\n",
       "QuestionID                    object\n",
       "ResponseID                   float64\n",
       "DataValueTypeID               object\n",
       "StratificationCategoryID1     object\n",
       "StratificationID1             object\n",
       "StratificationCategoryID2    float64\n",
       "StratificationID2            float64\n",
       "StratificationCategoryID3    float64\n",
       "StratificationID3            float64\n",
       "dtype: object"
      ]
     },
     "execution_count": 525,
     "metadata": {},
     "output_type": "execute_result"
    }
   ],
   "source": [
    "cancer.dtypes"
   ]
  },
  {
   "cell_type": "code",
   "execution_count": 526,
   "id": "2e7e42f1",
   "metadata": {},
   "outputs": [
    {
     "data": {
      "text/html": [
       "<div>\n",
       "<style scoped>\n",
       "    .dataframe tbody tr th:only-of-type {\n",
       "        vertical-align: middle;\n",
       "    }\n",
       "\n",
       "    .dataframe tbody tr th {\n",
       "        vertical-align: top;\n",
       "    }\n",
       "\n",
       "    .dataframe thead th {\n",
       "        text-align: right;\n",
       "    }\n",
       "</style>\n",
       "<table border=\"1\" class=\"dataframe\">\n",
       "  <thead>\n",
       "    <tr style=\"text-align: right;\">\n",
       "      <th></th>\n",
       "      <th>YearStart</th>\n",
       "      <th>YearEnd</th>\n",
       "      <th>LocationAbbr</th>\n",
       "      <th>LocationDesc</th>\n",
       "      <th>DataSource</th>\n",
       "      <th>Topic</th>\n",
       "      <th>Question</th>\n",
       "      <th>Response</th>\n",
       "      <th>DataValueUnit</th>\n",
       "      <th>DataValueType</th>\n",
       "      <th>...</th>\n",
       "      <th>TopicID</th>\n",
       "      <th>QuestionID</th>\n",
       "      <th>ResponseID</th>\n",
       "      <th>DataValueTypeID</th>\n",
       "      <th>StratificationCategoryID1</th>\n",
       "      <th>StratificationID1</th>\n",
       "      <th>StratificationCategoryID2</th>\n",
       "      <th>StratificationID2</th>\n",
       "      <th>StratificationCategoryID3</th>\n",
       "      <th>StratificationID3</th>\n",
       "    </tr>\n",
       "  </thead>\n",
       "  <tbody>\n",
       "    <tr>\n",
       "      <th>count</th>\n",
       "      <td>22358.000000</td>\n",
       "      <td>22358.000000</td>\n",
       "      <td>22358</td>\n",
       "      <td>22358</td>\n",
       "      <td>22358</td>\n",
       "      <td>22358</td>\n",
       "      <td>22358</td>\n",
       "      <td>0.0</td>\n",
       "      <td>22358</td>\n",
       "      <td>22358</td>\n",
       "      <td>...</td>\n",
       "      <td>22358</td>\n",
       "      <td>22358</td>\n",
       "      <td>0.0</td>\n",
       "      <td>22358</td>\n",
       "      <td>22358</td>\n",
       "      <td>22358</td>\n",
       "      <td>0.0</td>\n",
       "      <td>0.0</td>\n",
       "      <td>0.0</td>\n",
       "      <td>0.0</td>\n",
       "    </tr>\n",
       "    <tr>\n",
       "      <th>unique</th>\n",
       "      <td>NaN</td>\n",
       "      <td>NaN</td>\n",
       "      <td>55</td>\n",
       "      <td>55</td>\n",
       "      <td>2</td>\n",
       "      <td>1</td>\n",
       "      <td>10</td>\n",
       "      <td>NaN</td>\n",
       "      <td>3</td>\n",
       "      <td>5</td>\n",
       "      <td>...</td>\n",
       "      <td>1</td>\n",
       "      <td>10</td>\n",
       "      <td>NaN</td>\n",
       "      <td>5</td>\n",
       "      <td>3</td>\n",
       "      <td>11</td>\n",
       "      <td>NaN</td>\n",
       "      <td>NaN</td>\n",
       "      <td>NaN</td>\n",
       "      <td>NaN</td>\n",
       "    </tr>\n",
       "    <tr>\n",
       "      <th>top</th>\n",
       "      <td>NaN</td>\n",
       "      <td>NaN</td>\n",
       "      <td>OH</td>\n",
       "      <td>Ohio</td>\n",
       "      <td>US Cancer DVT</td>\n",
       "      <td>Cancer</td>\n",
       "      <td>Invasive cancer (all sites combined), incidence</td>\n",
       "      <td>NaN</td>\n",
       "      <td>per 100,000</td>\n",
       "      <td>Number</td>\n",
       "      <td>...</td>\n",
       "      <td>CAN</td>\n",
       "      <td>CAN07</td>\n",
       "      <td>NaN</td>\n",
       "      <td>NMBR</td>\n",
       "      <td>RACE</td>\n",
       "      <td>AIAN</td>\n",
       "      <td>NaN</td>\n",
       "      <td>NaN</td>\n",
       "      <td>NaN</td>\n",
       "      <td>NaN</td>\n",
       "    </tr>\n",
       "    <tr>\n",
       "      <th>freq</th>\n",
       "      <td>NaN</td>\n",
       "      <td>NaN</td>\n",
       "      <td>424</td>\n",
       "      <td>424</td>\n",
       "      <td>17520</td>\n",
       "      <td>22358</td>\n",
       "      <td>2544</td>\n",
       "      <td>NaN</td>\n",
       "      <td>11680</td>\n",
       "      <td>5840</td>\n",
       "      <td>...</td>\n",
       "      <td>22358</td>\n",
       "      <td>2544</td>\n",
       "      <td>NaN</td>\n",
       "      <td>5840</td>\n",
       "      <td>14800</td>\n",
       "      <td>2740</td>\n",
       "      <td>NaN</td>\n",
       "      <td>NaN</td>\n",
       "      <td>NaN</td>\n",
       "      <td>NaN</td>\n",
       "    </tr>\n",
       "    <tr>\n",
       "      <th>mean</th>\n",
       "      <td>2016.650863</td>\n",
       "      <td>2019.785312</td>\n",
       "      <td>NaN</td>\n",
       "      <td>NaN</td>\n",
       "      <td>NaN</td>\n",
       "      <td>NaN</td>\n",
       "      <td>NaN</td>\n",
       "      <td>NaN</td>\n",
       "      <td>NaN</td>\n",
       "      <td>NaN</td>\n",
       "      <td>...</td>\n",
       "      <td>NaN</td>\n",
       "      <td>NaN</td>\n",
       "      <td>NaN</td>\n",
       "      <td>NaN</td>\n",
       "      <td>NaN</td>\n",
       "      <td>NaN</td>\n",
       "      <td>NaN</td>\n",
       "      <td>NaN</td>\n",
       "      <td>NaN</td>\n",
       "      <td>NaN</td>\n",
       "    </tr>\n",
       "    <tr>\n",
       "      <th>std</th>\n",
       "      <td>2.280745</td>\n",
       "      <td>0.836649</td>\n",
       "      <td>NaN</td>\n",
       "      <td>NaN</td>\n",
       "      <td>NaN</td>\n",
       "      <td>NaN</td>\n",
       "      <td>NaN</td>\n",
       "      <td>NaN</td>\n",
       "      <td>NaN</td>\n",
       "      <td>NaN</td>\n",
       "      <td>...</td>\n",
       "      <td>NaN</td>\n",
       "      <td>NaN</td>\n",
       "      <td>NaN</td>\n",
       "      <td>NaN</td>\n",
       "      <td>NaN</td>\n",
       "      <td>NaN</td>\n",
       "      <td>NaN</td>\n",
       "      <td>NaN</td>\n",
       "      <td>NaN</td>\n",
       "      <td>NaN</td>\n",
       "    </tr>\n",
       "    <tr>\n",
       "      <th>min</th>\n",
       "      <td>2015.000000</td>\n",
       "      <td>2019.000000</td>\n",
       "      <td>NaN</td>\n",
       "      <td>NaN</td>\n",
       "      <td>NaN</td>\n",
       "      <td>NaN</td>\n",
       "      <td>NaN</td>\n",
       "      <td>NaN</td>\n",
       "      <td>NaN</td>\n",
       "      <td>NaN</td>\n",
       "      <td>...</td>\n",
       "      <td>NaN</td>\n",
       "      <td>NaN</td>\n",
       "      <td>NaN</td>\n",
       "      <td>NaN</td>\n",
       "      <td>NaN</td>\n",
       "      <td>NaN</td>\n",
       "      <td>NaN</td>\n",
       "      <td>NaN</td>\n",
       "      <td>NaN</td>\n",
       "      <td>NaN</td>\n",
       "    </tr>\n",
       "    <tr>\n",
       "      <th>25%</th>\n",
       "      <td>2015.000000</td>\n",
       "      <td>2019.000000</td>\n",
       "      <td>NaN</td>\n",
       "      <td>NaN</td>\n",
       "      <td>NaN</td>\n",
       "      <td>NaN</td>\n",
       "      <td>NaN</td>\n",
       "      <td>NaN</td>\n",
       "      <td>NaN</td>\n",
       "      <td>NaN</td>\n",
       "      <td>...</td>\n",
       "      <td>NaN</td>\n",
       "      <td>NaN</td>\n",
       "      <td>NaN</td>\n",
       "      <td>NaN</td>\n",
       "      <td>NaN</td>\n",
       "      <td>NaN</td>\n",
       "      <td>NaN</td>\n",
       "      <td>NaN</td>\n",
       "      <td>NaN</td>\n",
       "      <td>NaN</td>\n",
       "    </tr>\n",
       "    <tr>\n",
       "      <th>50%</th>\n",
       "      <td>2016.000000</td>\n",
       "      <td>2020.000000</td>\n",
       "      <td>NaN</td>\n",
       "      <td>NaN</td>\n",
       "      <td>NaN</td>\n",
       "      <td>NaN</td>\n",
       "      <td>NaN</td>\n",
       "      <td>NaN</td>\n",
       "      <td>NaN</td>\n",
       "      <td>NaN</td>\n",
       "      <td>...</td>\n",
       "      <td>NaN</td>\n",
       "      <td>NaN</td>\n",
       "      <td>NaN</td>\n",
       "      <td>NaN</td>\n",
       "      <td>NaN</td>\n",
       "      <td>NaN</td>\n",
       "      <td>NaN</td>\n",
       "      <td>NaN</td>\n",
       "      <td>NaN</td>\n",
       "      <td>NaN</td>\n",
       "    </tr>\n",
       "    <tr>\n",
       "      <th>75%</th>\n",
       "      <td>2016.000000</td>\n",
       "      <td>2020.000000</td>\n",
       "      <td>NaN</td>\n",
       "      <td>NaN</td>\n",
       "      <td>NaN</td>\n",
       "      <td>NaN</td>\n",
       "      <td>NaN</td>\n",
       "      <td>NaN</td>\n",
       "      <td>NaN</td>\n",
       "      <td>NaN</td>\n",
       "      <td>...</td>\n",
       "      <td>NaN</td>\n",
       "      <td>NaN</td>\n",
       "      <td>NaN</td>\n",
       "      <td>NaN</td>\n",
       "      <td>NaN</td>\n",
       "      <td>NaN</td>\n",
       "      <td>NaN</td>\n",
       "      <td>NaN</td>\n",
       "      <td>NaN</td>\n",
       "      <td>NaN</td>\n",
       "    </tr>\n",
       "    <tr>\n",
       "      <th>max</th>\n",
       "      <td>2022.000000</td>\n",
       "      <td>2022.000000</td>\n",
       "      <td>NaN</td>\n",
       "      <td>NaN</td>\n",
       "      <td>NaN</td>\n",
       "      <td>NaN</td>\n",
       "      <td>NaN</td>\n",
       "      <td>NaN</td>\n",
       "      <td>NaN</td>\n",
       "      <td>NaN</td>\n",
       "      <td>...</td>\n",
       "      <td>NaN</td>\n",
       "      <td>NaN</td>\n",
       "      <td>NaN</td>\n",
       "      <td>NaN</td>\n",
       "      <td>NaN</td>\n",
       "      <td>NaN</td>\n",
       "      <td>NaN</td>\n",
       "      <td>NaN</td>\n",
       "      <td>NaN</td>\n",
       "      <td>NaN</td>\n",
       "    </tr>\n",
       "  </tbody>\n",
       "</table>\n",
       "<p>11 rows × 34 columns</p>\n",
       "</div>"
      ],
      "text/plain": [
       "           YearStart       YearEnd LocationAbbr LocationDesc     DataSource  \\\n",
       "count   22358.000000  22358.000000        22358        22358          22358   \n",
       "unique           NaN           NaN           55           55              2   \n",
       "top              NaN           NaN           OH         Ohio  US Cancer DVT   \n",
       "freq             NaN           NaN          424          424          17520   \n",
       "mean     2016.650863   2019.785312          NaN          NaN            NaN   \n",
       "std         2.280745      0.836649          NaN          NaN            NaN   \n",
       "min      2015.000000   2019.000000          NaN          NaN            NaN   \n",
       "25%      2015.000000   2019.000000          NaN          NaN            NaN   \n",
       "50%      2016.000000   2020.000000          NaN          NaN            NaN   \n",
       "75%      2016.000000   2020.000000          NaN          NaN            NaN   \n",
       "max      2022.000000   2022.000000          NaN          NaN            NaN   \n",
       "\n",
       "         Topic                                         Question  Response  \\\n",
       "count    22358                                            22358       0.0   \n",
       "unique       1                                               10       NaN   \n",
       "top     Cancer  Invasive cancer (all sites combined), incidence       NaN   \n",
       "freq     22358                                             2544       NaN   \n",
       "mean       NaN                                              NaN       NaN   \n",
       "std        NaN                                              NaN       NaN   \n",
       "min        NaN                                              NaN       NaN   \n",
       "25%        NaN                                              NaN       NaN   \n",
       "50%        NaN                                              NaN       NaN   \n",
       "75%        NaN                                              NaN       NaN   \n",
       "max        NaN                                              NaN       NaN   \n",
       "\n",
       "       DataValueUnit DataValueType  ...  TopicID  QuestionID ResponseID  \\\n",
       "count          22358         22358  ...    22358       22358        0.0   \n",
       "unique             3             5  ...        1          10        NaN   \n",
       "top      per 100,000        Number  ...      CAN       CAN07        NaN   \n",
       "freq           11680          5840  ...    22358        2544        NaN   \n",
       "mean             NaN           NaN  ...      NaN         NaN        NaN   \n",
       "std              NaN           NaN  ...      NaN         NaN        NaN   \n",
       "min              NaN           NaN  ...      NaN         NaN        NaN   \n",
       "25%              NaN           NaN  ...      NaN         NaN        NaN   \n",
       "50%              NaN           NaN  ...      NaN         NaN        NaN   \n",
       "75%              NaN           NaN  ...      NaN         NaN        NaN   \n",
       "max              NaN           NaN  ...      NaN         NaN        NaN   \n",
       "\n",
       "       DataValueTypeID  StratificationCategoryID1  StratificationID1  \\\n",
       "count            22358                      22358              22358   \n",
       "unique               5                          3                 11   \n",
       "top               NMBR                       RACE               AIAN   \n",
       "freq              5840                      14800               2740   \n",
       "mean               NaN                        NaN                NaN   \n",
       "std                NaN                        NaN                NaN   \n",
       "min                NaN                        NaN                NaN   \n",
       "25%                NaN                        NaN                NaN   \n",
       "50%                NaN                        NaN                NaN   \n",
       "75%                NaN                        NaN                NaN   \n",
       "max                NaN                        NaN                NaN   \n",
       "\n",
       "       StratificationCategoryID2 StratificationID2  StratificationCategoryID3  \\\n",
       "count                        0.0               0.0                        0.0   \n",
       "unique                       NaN               NaN                        NaN   \n",
       "top                          NaN               NaN                        NaN   \n",
       "freq                         NaN               NaN                        NaN   \n",
       "mean                         NaN               NaN                        NaN   \n",
       "std                          NaN               NaN                        NaN   \n",
       "min                          NaN               NaN                        NaN   \n",
       "25%                          NaN               NaN                        NaN   \n",
       "50%                          NaN               NaN                        NaN   \n",
       "75%                          NaN               NaN                        NaN   \n",
       "max                          NaN               NaN                        NaN   \n",
       "\n",
       "        StratificationID3  \n",
       "count                 0.0  \n",
       "unique                NaN  \n",
       "top                   NaN  \n",
       "freq                  NaN  \n",
       "mean                  NaN  \n",
       "std                   NaN  \n",
       "min                   NaN  \n",
       "25%                   NaN  \n",
       "50%                   NaN  \n",
       "75%                   NaN  \n",
       "max                   NaN  \n",
       "\n",
       "[11 rows x 34 columns]"
      ]
     },
     "execution_count": 526,
     "metadata": {},
     "output_type": "execute_result"
    }
   ],
   "source": [
    "cancer.describe(include=\"all\")"
   ]
  },
  {
   "cell_type": "code",
   "execution_count": 527,
   "id": "80dfa647",
   "metadata": {},
   "outputs": [
    {
     "data": {
      "text/html": [
       "<div>\n",
       "<style scoped>\n",
       "    .dataframe tbody tr th:only-of-type {\n",
       "        vertical-align: middle;\n",
       "    }\n",
       "\n",
       "    .dataframe tbody tr th {\n",
       "        vertical-align: top;\n",
       "    }\n",
       "\n",
       "    .dataframe thead th {\n",
       "        text-align: right;\n",
       "    }\n",
       "</style>\n",
       "<table border=\"1\" class=\"dataframe\">\n",
       "  <thead>\n",
       "    <tr style=\"text-align: right;\">\n",
       "      <th></th>\n",
       "      <th>YearStart</th>\n",
       "      <th>YearEnd</th>\n",
       "      <th>LocationAbbr</th>\n",
       "      <th>LocationDesc</th>\n",
       "      <th>DataSource</th>\n",
       "      <th>Topic</th>\n",
       "      <th>Question</th>\n",
       "      <th>Response</th>\n",
       "      <th>DataValueUnit</th>\n",
       "      <th>DataValueType</th>\n",
       "      <th>...</th>\n",
       "      <th>TopicID</th>\n",
       "      <th>QuestionID</th>\n",
       "      <th>ResponseID</th>\n",
       "      <th>DataValueTypeID</th>\n",
       "      <th>StratificationCategoryID1</th>\n",
       "      <th>StratificationID1</th>\n",
       "      <th>StratificationCategoryID2</th>\n",
       "      <th>StratificationID2</th>\n",
       "      <th>StratificationCategoryID3</th>\n",
       "      <th>StratificationID3</th>\n",
       "    </tr>\n",
       "  </thead>\n",
       "  <tbody>\n",
       "    <tr>\n",
       "      <th>112</th>\n",
       "      <td>2015</td>\n",
       "      <td>2019</td>\n",
       "      <td>OH</td>\n",
       "      <td>Ohio</td>\n",
       "      <td>US Cancer DVT</td>\n",
       "      <td>Cancer</td>\n",
       "      <td>Invasive cancer (all sites combined), incidence</td>\n",
       "      <td>NaN</td>\n",
       "      <td>Number</td>\n",
       "      <td>Number</td>\n",
       "      <td>...</td>\n",
       "      <td>CAN</td>\n",
       "      <td>CAN07</td>\n",
       "      <td>NaN</td>\n",
       "      <td>NMBR</td>\n",
       "      <td>SEX</td>\n",
       "      <td>SEXF</td>\n",
       "      <td>NaN</td>\n",
       "      <td>NaN</td>\n",
       "      <td>NaN</td>\n",
       "      <td>NaN</td>\n",
       "    </tr>\n",
       "    <tr>\n",
       "      <th>113</th>\n",
       "      <td>2015</td>\n",
       "      <td>2019</td>\n",
       "      <td>ID</td>\n",
       "      <td>Idaho</td>\n",
       "      <td>US Cancer DVT</td>\n",
       "      <td>Cancer</td>\n",
       "      <td>Invasive cancer (all sites combined) mortality...</td>\n",
       "      <td>NaN</td>\n",
       "      <td>per 100,000</td>\n",
       "      <td>Age-adjusted Rate</td>\n",
       "      <td>...</td>\n",
       "      <td>CAN</td>\n",
       "      <td>CAN08</td>\n",
       "      <td>NaN</td>\n",
       "      <td>AGEADJRATE</td>\n",
       "      <td>RACE</td>\n",
       "      <td>AIAN</td>\n",
       "      <td>NaN</td>\n",
       "      <td>NaN</td>\n",
       "      <td>NaN</td>\n",
       "      <td>NaN</td>\n",
       "    </tr>\n",
       "  </tbody>\n",
       "</table>\n",
       "<p>2 rows × 34 columns</p>\n",
       "</div>"
      ],
      "text/plain": [
       "     YearStart  YearEnd LocationAbbr LocationDesc     DataSource   Topic  \\\n",
       "112       2015     2019           OH         Ohio  US Cancer DVT  Cancer   \n",
       "113       2015     2019           ID        Idaho  US Cancer DVT  Cancer   \n",
       "\n",
       "                                              Question  Response  \\\n",
       "112    Invasive cancer (all sites combined), incidence       NaN   \n",
       "113  Invasive cancer (all sites combined) mortality...       NaN   \n",
       "\n",
       "    DataValueUnit      DataValueType  ...  TopicID  QuestionID ResponseID  \\\n",
       "112        Number             Number  ...      CAN       CAN07        NaN   \n",
       "113   per 100,000  Age-adjusted Rate  ...      CAN       CAN08        NaN   \n",
       "\n",
       "    DataValueTypeID  StratificationCategoryID1  StratificationID1  \\\n",
       "112            NMBR                        SEX               SEXF   \n",
       "113      AGEADJRATE                       RACE               AIAN   \n",
       "\n",
       "    StratificationCategoryID2 StratificationID2  StratificationCategoryID3  \\\n",
       "112                       NaN               NaN                        NaN   \n",
       "113                       NaN               NaN                        NaN   \n",
       "\n",
       "     StratificationID3  \n",
       "112                NaN  \n",
       "113                NaN  \n",
       "\n",
       "[2 rows x 34 columns]"
      ]
     },
     "execution_count": 527,
     "metadata": {},
     "output_type": "execute_result"
    }
   ],
   "source": [
    "cancer.head(2)"
   ]
  },
  {
   "cell_type": "code",
   "execution_count": 528,
   "id": "8d7fc519",
   "metadata": {},
   "outputs": [
    {
     "data": {
      "text/plain": [
       "array(['Invasive cancer (all sites combined), incidence',\n",
       "       'Invasive cancer (all sites combined) mortality among all people, underlying cause',\n",
       "       'Colon and rectum (colorectal) cancer mortality among all people, underlying cause',\n",
       "       'Cervical cancer mortality among all females, underlying cause',\n",
       "       'Breast cancer mortality among all females, underlying cause',\n",
       "       'Prostate cancer mortality among all males, underlying cause',\n",
       "       'Lung and bronchial cancer mortality among all people, underlying cause',\n",
       "       'Colorectal cancer screening among adults aged 45-75 years',\n",
       "       'Cervical cancer screening among women aged 21-65 years',\n",
       "       'Mammography use among women aged 50-74 years'], dtype=object)"
      ]
     },
     "execution_count": 528,
     "metadata": {},
     "output_type": "execute_result"
    }
   ],
   "source": [
    "uniqe_questions = pd.unique(cancer[\"Question\"])\n",
    "uniqe_questions"
   ]
  },
  {
   "cell_type": "code",
   "execution_count": 529,
   "id": "c04f951e",
   "metadata": {},
   "outputs": [
    {
     "name": "stdout",
     "output_type": "stream",
     "text": [
      "10\n"
     ]
    }
   ],
   "source": [
    "print(len(uniqe_questions))"
   ]
  },
  {
   "cell_type": "code",
   "execution_count": 530,
   "id": "370f1954",
   "metadata": {},
   "outputs": [
    {
     "data": {
      "text/plain": [
       "(22358, 34)"
      ]
     },
     "execution_count": 530,
     "metadata": {},
     "output_type": "execute_result"
    }
   ],
   "source": [
    "cancer.shape"
   ]
  },
  {
   "cell_type": "code",
   "execution_count": 531,
   "id": "271f4597",
   "metadata": {},
   "outputs": [
    {
     "data": {
      "text/plain": [
       "(309215, 34)"
      ]
     },
     "execution_count": 531,
     "metadata": {},
     "output_type": "execute_result"
    }
   ],
   "source": [
    "df.shape"
   ]
  },
  {
   "cell_type": "code",
   "execution_count": 532,
   "id": "9212c400",
   "metadata": {},
   "outputs": [
    {
     "name": "stdout",
     "output_type": "stream",
     "text": [
      "pink\n"
     ]
    }
   ],
   "source": [
    "a = \"PINK\"\n",
    "print(a.lower())"
   ]
  },
  {
   "cell_type": "code",
   "execution_count": 533,
   "id": "db151271",
   "metadata": {},
   "outputs": [
    {
     "data": {
      "text/plain": [
       "['Invasive cancer (all sites combined) mortality among all people, underlying cause',\n",
       " 'Colon and rectum (colorectal) cancer mortality among all people, underlying cause',\n",
       " 'Cervical cancer mortality among all females, underlying cause',\n",
       " 'Breast cancer mortality among all females, underlying cause',\n",
       " 'Prostate cancer mortality among all males, underlying cause',\n",
       " 'Lung and bronchial cancer mortality among all people, underlying cause']"
      ]
     },
     "execution_count": 533,
     "metadata": {},
     "output_type": "execute_result"
    }
   ],
   "source": [
    "mortality_questions = []\n",
    "\n",
    "for questions in  uniqe_questions:\n",
    "    if \"mortality\" in questions.lower():\n",
    "        mortality_questions.append(questions)    \n",
    "mortality_questions"
   ]
  },
  {
   "cell_type": "code",
   "execution_count": 534,
   "id": "adca1cfd",
   "metadata": {},
   "outputs": [],
   "source": [
    "cancer = cancer.drop(columns = 'Topic')"
   ]
  },
  {
   "cell_type": "code",
   "execution_count": 535,
   "id": "f5e0d60b",
   "metadata": {},
   "outputs": [
    {
     "data": {
      "text/plain": [
       "['Invasive cancer (all sites combined) mortality among all people, underlying cause',\n",
       " 'Colon and rectum (colorectal) cancer mortality among all people, underlying cause',\n",
       " 'Cervical cancer mortality among all females, underlying cause',\n",
       " 'Breast cancer mortality among all females, underlying cause',\n",
       " 'Prostate cancer mortality among all males, underlying cause',\n",
       " 'Lung and bronchial cancer mortality among all people, underlying cause']"
      ]
     },
     "execution_count": 535,
     "metadata": {},
     "output_type": "execute_result"
    }
   ],
   "source": [
    "underlying_cause_questions = []\n",
    "\n",
    "for question in uniqe_questions:\n",
    "    if 'underlying cause' in question.lower():\n",
    "        underlying_cause_questions.append(question)\n",
    "        \n",
    "underlying_cause_questions"
   ]
  },
  {
   "cell_type": "code",
   "execution_count": 536,
   "id": "6479441c",
   "metadata": {},
   "outputs": [],
   "source": [
    "underlying_cause = cancer[cancer['Question'].isin(underlying_cause_questions)]"
   ]
  },
  {
   "cell_type": "code",
   "execution_count": 537,
   "id": "17285f99",
   "metadata": {},
   "outputs": [
    {
     "data": {
      "text/plain": [
       "<Axes: xlabel='Question', ylabel='Count'>"
      ]
     },
     "execution_count": 537,
     "metadata": {},
     "output_type": "execute_result"
    },
    {
     "data": {
      "image/png": "[encoded data removed]",
      "text/plain": [
       "<Figure size 640x480 with 1 Axes>"
      ]
     },
     "metadata": {},
     "output_type": "display_data"
    }
   ],
   "source": [
    "sns.histplot(data = underlying_cause, x = 'Question')"
   ]
  },
  {
   "cell_type": "code",
   "execution_count": 538,
   "id": "ac0f0cb8",
   "metadata": {},
   "outputs": [
    {
     "data": {
      "text/plain": [
       "Index(['YearStart', 'YearEnd', 'LocationAbbr', 'LocationDesc', 'DataSource',\n",
       "       'Question', 'Response', 'DataValueUnit', 'DataValueType', 'DataValue',\n",
       "       'DataValueAlt', 'DataValueFootnoteSymbol', 'DataValueFootnote',\n",
       "       'LowConfidenceLimit', 'HighConfidenceLimit', 'StratificationCategory1',\n",
       "       'Stratification1', 'StratificationCategory2', 'Stratification2',\n",
       "       'StratificationCategory3', 'Stratification3', 'Geolocation',\n",
       "       'LocationID', 'TopicID', 'QuestionID', 'ResponseID', 'DataValueTypeID',\n",
       "       'StratificationCategoryID1', 'StratificationID1',\n",
       "       'StratificationCategoryID2', 'StratificationID2',\n",
       "       'StratificationCategoryID3', 'StratificationID3'],\n",
       "      dtype='object')"
      ]
     },
     "execution_count": 538,
     "metadata": {},
     "output_type": "execute_result"
    }
   ],
   "source": [
    "underlying_cause.columns"
   ]
  },
  {
   "cell_type": "code",
   "execution_count": 539,
   "id": "0bd9693c",
   "metadata": {},
   "outputs": [
    {
     "data": {
      "text/plain": [
       "Question\n",
       "Invasive cancer (all sites combined) mortality among all people, underlying cause    2496\n",
       "Colon and rectum (colorectal) cancer mortality among all people, underlying cause    2496\n",
       "Cervical cancer mortality among all females, underlying cause                        2496\n",
       "Breast cancer mortality among all females, underlying cause                          2496\n",
       "Prostate cancer mortality among all males, underlying cause                          2496\n",
       "Lung and bronchial cancer mortality among all people, underlying cause               2496\n",
       "Name: count, dtype: int64"
      ]
     },
     "execution_count": 539,
     "metadata": {},
     "output_type": "execute_result"
    }
   ],
   "source": [
    "underlying_cause['Question'].value_counts(sort=True)"
   ]
  },
  {
   "cell_type": "code",
   "execution_count": 540,
   "id": "b35bef1d",
   "metadata": {},
   "outputs": [
    {
     "data": {
      "text/plain": [
       "Question\n",
       "Invasive cancer (all sites combined), incidence                                      2544\n",
       "Invasive cancer (all sites combined) mortality among all people, underlying cause    2496\n",
       "Colon and rectum (colorectal) cancer mortality among all people, underlying cause    2496\n",
       "Cervical cancer mortality among all females, underlying cause                        2496\n",
       "Breast cancer mortality among all females, underlying cause                          2496\n",
       "Prostate cancer mortality among all males, underlying cause                          2496\n",
       "Lung and bronchial cancer mortality among all people, underlying cause               2496\n",
       "Colorectal cancer screening among adults aged 45-75 years                            2200\n",
       "Mammography use among women aged 50-74 years                                         1758\n",
       "Cervical cancer screening among women aged 21-65 years                                880\n",
       "Name: count, dtype: int64"
      ]
     },
     "execution_count": 540,
     "metadata": {},
     "output_type": "execute_result"
    }
   ],
   "source": [
    "cancer['Question'].value_counts(sort=True)"
   ]
  },
  {
   "cell_type": "code",
   "execution_count": 541,
   "id": "571a4ea7",
   "metadata": {},
   "outputs": [],
   "source": [
    "cancer.to_csv(\"cancer.csv\", index=False)"
   ]
  },
  {
   "cell_type": "code",
   "execution_count": 542,
   "id": "d8df3d5e",
   "metadata": {},
   "outputs": [
    {
     "data": {
      "text/plain": [
       "YearStart                        0\n",
       "YearEnd                          0\n",
       "LocationAbbr                     0\n",
       "LocationDesc                     0\n",
       "DataSource                       0\n",
       "Question                         0\n",
       "Response                     22358\n",
       "DataValueUnit                    0\n",
       "DataValueType                    0\n",
       "DataValue                     5859\n",
       "DataValueAlt                  5859\n",
       "DataValueFootnoteSymbol      16499\n",
       "DataValueFootnote            16499\n",
       "LowConfidenceLimit           10503\n",
       "HighConfidenceLimit          10503\n",
       "StratificationCategory1          0\n",
       "Stratification1                  0\n",
       "StratificationCategory2      22358\n",
       "Stratification2              22358\n",
       "StratificationCategory3      22358\n",
       "Stratification3              22358\n",
       "Geolocation                    422\n",
       "LocationID                       0\n",
       "TopicID                          0\n",
       "QuestionID                       0\n",
       "ResponseID                   22358\n",
       "DataValueTypeID                  0\n",
       "StratificationCategoryID1        0\n",
       "StratificationID1                0\n",
       "StratificationCategoryID2    22358\n",
       "StratificationID2            22358\n",
       "StratificationCategoryID3    22358\n",
       "StratificationID3            22358\n",
       "dtype: int64"
      ]
     },
     "execution_count": 542,
     "metadata": {},
     "output_type": "execute_result"
    }
   ],
   "source": [
    "cancer.isna().sum()"
   ]
  },
  {
   "cell_type": "code",
   "execution_count": 543,
   "id": "186edc07",
   "metadata": {},
   "outputs": [
    {
     "data": {
      "text/html": [
       "<div>\n",
       "<style scoped>\n",
       "    .dataframe tbody tr th:only-of-type {\n",
       "        vertical-align: middle;\n",
       "    }\n",
       "\n",
       "    .dataframe tbody tr th {\n",
       "        vertical-align: top;\n",
       "    }\n",
       "\n",
       "    .dataframe thead th {\n",
       "        text-align: right;\n",
       "    }\n",
       "</style>\n",
       "<table border=\"1\" class=\"dataframe\">\n",
       "  <thead>\n",
       "    <tr style=\"text-align: right;\">\n",
       "      <th></th>\n",
       "      <th>YearStart</th>\n",
       "      <th>YearEnd</th>\n",
       "      <th>LocationAbbr</th>\n",
       "      <th>LocationDesc</th>\n",
       "      <th>DataSource</th>\n",
       "      <th>Question</th>\n",
       "      <th>Response</th>\n",
       "      <th>DataValueUnit</th>\n",
       "      <th>DataValueType</th>\n",
       "      <th>DataValue</th>\n",
       "      <th>...</th>\n",
       "      <th>TopicID</th>\n",
       "      <th>QuestionID</th>\n",
       "      <th>ResponseID</th>\n",
       "      <th>DataValueTypeID</th>\n",
       "      <th>StratificationCategoryID1</th>\n",
       "      <th>StratificationID1</th>\n",
       "      <th>StratificationCategoryID2</th>\n",
       "      <th>StratificationID2</th>\n",
       "      <th>StratificationCategoryID3</th>\n",
       "      <th>StratificationID3</th>\n",
       "    </tr>\n",
       "  </thead>\n",
       "  <tbody>\n",
       "    <tr>\n",
       "      <th>112</th>\n",
       "      <td>2015</td>\n",
       "      <td>2019</td>\n",
       "      <td>OH</td>\n",
       "      <td>Ohio</td>\n",
       "      <td>US Cancer DVT</td>\n",
       "      <td>Invasive cancer (all sites combined), incidence</td>\n",
       "      <td>NaN</td>\n",
       "      <td>Number</td>\n",
       "      <td>Number</td>\n",
       "      <td>34395.0</td>\n",
       "      <td>...</td>\n",
       "      <td>CAN</td>\n",
       "      <td>CAN07</td>\n",
       "      <td>NaN</td>\n",
       "      <td>NMBR</td>\n",
       "      <td>SEX</td>\n",
       "      <td>SEXF</td>\n",
       "      <td>NaN</td>\n",
       "      <td>NaN</td>\n",
       "      <td>NaN</td>\n",
       "      <td>NaN</td>\n",
       "    </tr>\n",
       "    <tr>\n",
       "      <th>113</th>\n",
       "      <td>2015</td>\n",
       "      <td>2019</td>\n",
       "      <td>ID</td>\n",
       "      <td>Idaho</td>\n",
       "      <td>US Cancer DVT</td>\n",
       "      <td>Invasive cancer (all sites combined) mortality...</td>\n",
       "      <td>NaN</td>\n",
       "      <td>per 100,000</td>\n",
       "      <td>Age-adjusted Rate</td>\n",
       "      <td>123.1</td>\n",
       "      <td>...</td>\n",
       "      <td>CAN</td>\n",
       "      <td>CAN08</td>\n",
       "      <td>NaN</td>\n",
       "      <td>AGEADJRATE</td>\n",
       "      <td>RACE</td>\n",
       "      <td>AIAN</td>\n",
       "      <td>NaN</td>\n",
       "      <td>NaN</td>\n",
       "      <td>NaN</td>\n",
       "      <td>NaN</td>\n",
       "    </tr>\n",
       "  </tbody>\n",
       "</table>\n",
       "<p>2 rows × 33 columns</p>\n",
       "</div>"
      ],
      "text/plain": [
       "     YearStart  YearEnd LocationAbbr LocationDesc     DataSource  \\\n",
       "112       2015     2019           OH         Ohio  US Cancer DVT   \n",
       "113       2015     2019           ID        Idaho  US Cancer DVT   \n",
       "\n",
       "                                              Question  Response  \\\n",
       "112    Invasive cancer (all sites combined), incidence       NaN   \n",
       "113  Invasive cancer (all sites combined) mortality...       NaN   \n",
       "\n",
       "    DataValueUnit      DataValueType  DataValue  ...  TopicID QuestionID  \\\n",
       "112        Number             Number    34395.0  ...      CAN      CAN07   \n",
       "113   per 100,000  Age-adjusted Rate      123.1  ...      CAN      CAN08   \n",
       "\n",
       "    ResponseID  DataValueTypeID  StratificationCategoryID1 StratificationID1  \\\n",
       "112        NaN             NMBR                        SEX              SEXF   \n",
       "113        NaN       AGEADJRATE                       RACE              AIAN   \n",
       "\n",
       "    StratificationCategoryID2  StratificationID2  StratificationCategoryID3  \\\n",
       "112                       NaN                NaN                        NaN   \n",
       "113                       NaN                NaN                        NaN   \n",
       "\n",
       "     StratificationID3  \n",
       "112                NaN  \n",
       "113                NaN  \n",
       "\n",
       "[2 rows x 33 columns]"
      ]
     },
     "execution_count": 543,
     "metadata": {},
     "output_type": "execute_result"
    }
   ],
   "source": [
    "cancer.head(2)"
   ]
  },
  {
   "cell_type": "code",
   "execution_count": 544,
   "id": "6192e4c3",
   "metadata": {},
   "outputs": [
    {
     "name": "stdout",
     "output_type": "stream",
     "text": [
      "Column 'Response' has 22358 missing values.\n",
      "Column 'DataValue' has 5859 missing values.\n",
      "Column 'DataValueAlt' has 5859 missing values.\n",
      "Column 'DataValueFootnoteSymbol' has 16499 missing values.\n",
      "Column 'DataValueFootnote' has 16499 missing values.\n",
      "Column 'LowConfidenceLimit' has 10503 missing values.\n",
      "Column 'HighConfidenceLimit' has 10503 missing values.\n",
      "Column 'StratificationCategory2' has 22358 missing values.\n",
      "Column 'Stratification2' has 22358 missing values.\n",
      "Column 'StratificationCategory3' has 22358 missing values.\n",
      "Column 'Stratification3' has 22358 missing values.\n",
      "Column 'Geolocation' has 422 missing values.\n",
      "Column 'ResponseID' has 22358 missing values.\n",
      "Column 'StratificationCategoryID2' has 22358 missing values.\n",
      "Column 'StratificationID2' has 22358 missing values.\n",
      "Column 'StratificationCategoryID3' has 22358 missing values.\n",
      "Column 'StratificationID3' has 22358 missing values.\n"
     ]
    },
    {
     "data": {
      "text/html": [
       "<div>\n",
       "<style scoped>\n",
       "    .dataframe tbody tr th:only-of-type {\n",
       "        vertical-align: middle;\n",
       "    }\n",
       "\n",
       "    .dataframe tbody tr th {\n",
       "        vertical-align: top;\n",
       "    }\n",
       "\n",
       "    .dataframe thead th {\n",
       "        text-align: right;\n",
       "    }\n",
       "</style>\n",
       "<table border=\"1\" class=\"dataframe\">\n",
       "  <thead>\n",
       "    <tr style=\"text-align: right;\">\n",
       "      <th></th>\n",
       "      <th>112</th>\n",
       "      <th>113</th>\n",
       "      <th>114</th>\n",
       "      <th>115</th>\n",
       "      <th>116</th>\n",
       "      <th>117</th>\n",
       "      <th>118</th>\n",
       "      <th>119</th>\n",
       "      <th>120</th>\n",
       "      <th>121</th>\n",
       "      <th>...</th>\n",
       "      <th>308879</th>\n",
       "      <th>308918</th>\n",
       "      <th>309117</th>\n",
       "      <th>309120</th>\n",
       "      <th>309122</th>\n",
       "      <th>309138</th>\n",
       "      <th>309156</th>\n",
       "      <th>309160</th>\n",
       "      <th>309170</th>\n",
       "      <th>309179</th>\n",
       "    </tr>\n",
       "  </thead>\n",
       "  <tbody>\n",
       "    <tr>\n",
       "      <th>YearStart</th>\n",
       "      <td>2015</td>\n",
       "      <td>2015</td>\n",
       "      <td>2015</td>\n",
       "      <td>2015</td>\n",
       "      <td>2016</td>\n",
       "      <td>2015</td>\n",
       "      <td>2015</td>\n",
       "      <td>2016</td>\n",
       "      <td>2015</td>\n",
       "      <td>2015</td>\n",
       "      <td>...</td>\n",
       "      <td>2022</td>\n",
       "      <td>2022</td>\n",
       "      <td>2022</td>\n",
       "      <td>2022</td>\n",
       "      <td>2022</td>\n",
       "      <td>2022</td>\n",
       "      <td>2022</td>\n",
       "      <td>2022</td>\n",
       "      <td>2022</td>\n",
       "      <td>2022</td>\n",
       "    </tr>\n",
       "    <tr>\n",
       "      <th>YearEnd</th>\n",
       "      <td>2019</td>\n",
       "      <td>2019</td>\n",
       "      <td>2019</td>\n",
       "      <td>2019</td>\n",
       "      <td>2020</td>\n",
       "      <td>2019</td>\n",
       "      <td>2019</td>\n",
       "      <td>2020</td>\n",
       "      <td>2019</td>\n",
       "      <td>2019</td>\n",
       "      <td>...</td>\n",
       "      <td>2022</td>\n",
       "      <td>2022</td>\n",
       "      <td>2022</td>\n",
       "      <td>2022</td>\n",
       "      <td>2022</td>\n",
       "      <td>2022</td>\n",
       "      <td>2022</td>\n",
       "      <td>2022</td>\n",
       "      <td>2022</td>\n",
       "      <td>2022</td>\n",
       "    </tr>\n",
       "    <tr>\n",
       "      <th>LocationAbbr</th>\n",
       "      <td>OH</td>\n",
       "      <td>ID</td>\n",
       "      <td>WY</td>\n",
       "      <td>AR</td>\n",
       "      <td>NJ</td>\n",
       "      <td>CO</td>\n",
       "      <td>AL</td>\n",
       "      <td>ID</td>\n",
       "      <td>NY</td>\n",
       "      <td>ND</td>\n",
       "      <td>...</td>\n",
       "      <td>WA</td>\n",
       "      <td>WY</td>\n",
       "      <td>VA</td>\n",
       "      <td>WA</td>\n",
       "      <td>WY</td>\n",
       "      <td>WY</td>\n",
       "      <td>WV</td>\n",
       "      <td>WA</td>\n",
       "      <td>VI</td>\n",
       "      <td>WI</td>\n",
       "    </tr>\n",
       "    <tr>\n",
       "      <th>LocationDesc</th>\n",
       "      <td>Ohio</td>\n",
       "      <td>Idaho</td>\n",
       "      <td>Wyoming</td>\n",
       "      <td>Arkansas</td>\n",
       "      <td>New Jersey</td>\n",
       "      <td>Colorado</td>\n",
       "      <td>Alabama</td>\n",
       "      <td>Idaho</td>\n",
       "      <td>New York</td>\n",
       "      <td>North Dakota</td>\n",
       "      <td>...</td>\n",
       "      <td>Washington</td>\n",
       "      <td>Wyoming</td>\n",
       "      <td>Virginia</td>\n",
       "      <td>Washington</td>\n",
       "      <td>Wyoming</td>\n",
       "      <td>Wyoming</td>\n",
       "      <td>West Virginia</td>\n",
       "      <td>Washington</td>\n",
       "      <td>Virgin Islands</td>\n",
       "      <td>Wisconsin</td>\n",
       "    </tr>\n",
       "    <tr>\n",
       "      <th>DataSource</th>\n",
       "      <td>US Cancer DVT</td>\n",
       "      <td>US Cancer DVT</td>\n",
       "      <td>US Cancer DVT</td>\n",
       "      <td>US Cancer DVT</td>\n",
       "      <td>US Cancer DVT</td>\n",
       "      <td>US Cancer DVT</td>\n",
       "      <td>US Cancer DVT</td>\n",
       "      <td>US Cancer DVT</td>\n",
       "      <td>US Cancer DVT</td>\n",
       "      <td>US Cancer DVT</td>\n",
       "      <td>...</td>\n",
       "      <td>BRFSS</td>\n",
       "      <td>BRFSS</td>\n",
       "      <td>BRFSS</td>\n",
       "      <td>BRFSS</td>\n",
       "      <td>BRFSS</td>\n",
       "      <td>BRFSS</td>\n",
       "      <td>BRFSS</td>\n",
       "      <td>BRFSS</td>\n",
       "      <td>BRFSS</td>\n",
       "      <td>BRFSS</td>\n",
       "    </tr>\n",
       "  </tbody>\n",
       "</table>\n",
       "<p>5 rows × 22358 columns</p>\n",
       "</div>"
      ],
      "text/plain": [
       "                     112            113            114            115     \\\n",
       "YearStart              2015           2015           2015           2015   \n",
       "YearEnd                2019           2019           2019           2019   \n",
       "LocationAbbr             OH             ID             WY             AR   \n",
       "LocationDesc           Ohio          Idaho        Wyoming       Arkansas   \n",
       "DataSource    US Cancer DVT  US Cancer DVT  US Cancer DVT  US Cancer DVT   \n",
       "\n",
       "                     116            117            118            119     \\\n",
       "YearStart              2016           2015           2015           2016   \n",
       "YearEnd                2020           2019           2019           2020   \n",
       "LocationAbbr             NJ             CO             AL             ID   \n",
       "LocationDesc     New Jersey       Colorado        Alabama          Idaho   \n",
       "DataSource    US Cancer DVT  US Cancer DVT  US Cancer DVT  US Cancer DVT   \n",
       "\n",
       "                     120            121     ...      308879   308918  \\\n",
       "YearStart              2015           2015  ...        2022     2022   \n",
       "YearEnd                2019           2019  ...        2022     2022   \n",
       "LocationAbbr             NY             ND  ...          WA       WY   \n",
       "LocationDesc       New York   North Dakota  ...  Washington  Wyoming   \n",
       "DataSource    US Cancer DVT  US Cancer DVT  ...       BRFSS    BRFSS   \n",
       "\n",
       "                309117      309120   309122   309138         309156  \\\n",
       "YearStart         2022        2022     2022     2022           2022   \n",
       "YearEnd           2022        2022     2022     2022           2022   \n",
       "LocationAbbr        VA          WA       WY       WY             WV   \n",
       "LocationDesc  Virginia  Washington  Wyoming  Wyoming  West Virginia   \n",
       "DataSource       BRFSS       BRFSS    BRFSS    BRFSS          BRFSS   \n",
       "\n",
       "                  309160          309170     309179  \n",
       "YearStart           2022            2022       2022  \n",
       "YearEnd             2022            2022       2022  \n",
       "LocationAbbr          WA              VI         WI  \n",
       "LocationDesc  Washington  Virgin Islands  Wisconsin  \n",
       "DataSource         BRFSS           BRFSS      BRFSS  \n",
       "\n",
       "[5 rows x 22358 columns]"
      ]
     },
     "execution_count": 544,
     "metadata": {},
     "output_type": "execute_result"
    }
   ],
   "source": [
    "data = []\n",
    "for col in cancer.columns:\n",
    "    if cancer[col].isna().sum() > 0:\n",
    "        print(f\"Column '{col}' has {cancer[col].isna().sum()} missing values.\")\n",
    "        data.append(cancer[col].fillna(0))\n",
    "    else:\n",
    "        data.append(cancer[col])\n",
    "        \n",
    "data = pd.DataFrame(data)\n",
    "\n",
    "\n",
    "\n",
    "data.head()"
   ]
  },
  {
   "cell_type": "code",
   "execution_count": 545,
   "id": "fbddafe3",
   "metadata": {},
   "outputs": [
    {
     "data": {
      "text/plain": [
       "YearStart                        0\n",
       "YearEnd                          0\n",
       "LocationAbbr                     0\n",
       "LocationDesc                     0\n",
       "DataSource                       0\n",
       "Question                         0\n",
       "Response                     22358\n",
       "DataValueUnit                    0\n",
       "DataValueType                    0\n",
       "DataValue                     5859\n",
       "DataValueAlt                  5859\n",
       "DataValueFootnoteSymbol      16499\n",
       "DataValueFootnote            16499\n",
       "LowConfidenceLimit           10503\n",
       "HighConfidenceLimit          10503\n",
       "StratificationCategory1          0\n",
       "Stratification1                  0\n",
       "StratificationCategory2      22358\n",
       "Stratification2              22358\n",
       "StratificationCategory3      22358\n",
       "Stratification3              22358\n",
       "Geolocation                    422\n",
       "LocationID                       0\n",
       "TopicID                          0\n",
       "QuestionID                       0\n",
       "ResponseID                   22358\n",
       "DataValueTypeID                  0\n",
       "StratificationCategoryID1        0\n",
       "StratificationID1                0\n",
       "StratificationCategoryID2    22358\n",
       "StratificationID2            22358\n",
       "StratificationCategoryID3    22358\n",
       "StratificationID3            22358\n",
       "dtype: int64"
      ]
     },
     "execution_count": 545,
     "metadata": {},
     "output_type": "execute_result"
    }
   ],
   "source": [
    "cancer.isna().sum()"
   ]
  },
  {
   "cell_type": "code",
   "execution_count": 546,
   "id": "ec86a84a",
   "metadata": {},
   "outputs": [
    {
     "data": {
      "text/html": [
       "<div>\n",
       "<style scoped>\n",
       "    .dataframe tbody tr th:only-of-type {\n",
       "        vertical-align: middle;\n",
       "    }\n",
       "\n",
       "    .dataframe tbody tr th {\n",
       "        vertical-align: top;\n",
       "    }\n",
       "\n",
       "    .dataframe thead th {\n",
       "        text-align: right;\n",
       "    }\n",
       "</style>\n",
       "<table border=\"1\" class=\"dataframe\">\n",
       "  <thead>\n",
       "    <tr style=\"text-align: right;\">\n",
       "      <th></th>\n",
       "      <th>YearStart</th>\n",
       "      <th>YearEnd</th>\n",
       "      <th>LocationAbbr</th>\n",
       "      <th>LocationDesc</th>\n",
       "      <th>DataSource</th>\n",
       "      <th>Question</th>\n",
       "      <th>Response</th>\n",
       "      <th>DataValueUnit</th>\n",
       "      <th>DataValueType</th>\n",
       "      <th>DataValue</th>\n",
       "      <th>...</th>\n",
       "      <th>TopicID</th>\n",
       "      <th>QuestionID</th>\n",
       "      <th>ResponseID</th>\n",
       "      <th>DataValueTypeID</th>\n",
       "      <th>StratificationCategoryID1</th>\n",
       "      <th>StratificationID1</th>\n",
       "      <th>StratificationCategoryID2</th>\n",
       "      <th>StratificationID2</th>\n",
       "      <th>StratificationCategoryID3</th>\n",
       "      <th>StratificationID3</th>\n",
       "    </tr>\n",
       "  </thead>\n",
       "  <tbody>\n",
       "    <tr>\n",
       "      <th>count</th>\n",
       "      <td>22358.000000</td>\n",
       "      <td>22358.000000</td>\n",
       "      <td>22358</td>\n",
       "      <td>22358</td>\n",
       "      <td>22358</td>\n",
       "      <td>22358</td>\n",
       "      <td>0.0</td>\n",
       "      <td>22358</td>\n",
       "      <td>22358</td>\n",
       "      <td>16499.000000</td>\n",
       "      <td>...</td>\n",
       "      <td>22358</td>\n",
       "      <td>22358</td>\n",
       "      <td>0.0</td>\n",
       "      <td>22358</td>\n",
       "      <td>22358</td>\n",
       "      <td>22358</td>\n",
       "      <td>0.0</td>\n",
       "      <td>0.0</td>\n",
       "      <td>0.0</td>\n",
       "      <td>0.0</td>\n",
       "    </tr>\n",
       "    <tr>\n",
       "      <th>unique</th>\n",
       "      <td>NaN</td>\n",
       "      <td>NaN</td>\n",
       "      <td>55</td>\n",
       "      <td>55</td>\n",
       "      <td>2</td>\n",
       "      <td>10</td>\n",
       "      <td>NaN</td>\n",
       "      <td>3</td>\n",
       "      <td>5</td>\n",
       "      <td>NaN</td>\n",
       "      <td>...</td>\n",
       "      <td>1</td>\n",
       "      <td>10</td>\n",
       "      <td>NaN</td>\n",
       "      <td>5</td>\n",
       "      <td>3</td>\n",
       "      <td>11</td>\n",
       "      <td>NaN</td>\n",
       "      <td>NaN</td>\n",
       "      <td>NaN</td>\n",
       "      <td>NaN</td>\n",
       "    </tr>\n",
       "    <tr>\n",
       "      <th>top</th>\n",
       "      <td>NaN</td>\n",
       "      <td>NaN</td>\n",
       "      <td>OH</td>\n",
       "      <td>Ohio</td>\n",
       "      <td>US Cancer DVT</td>\n",
       "      <td>Invasive cancer (all sites combined), incidence</td>\n",
       "      <td>NaN</td>\n",
       "      <td>per 100,000</td>\n",
       "      <td>Number</td>\n",
       "      <td>NaN</td>\n",
       "      <td>...</td>\n",
       "      <td>CAN</td>\n",
       "      <td>CAN07</td>\n",
       "      <td>NaN</td>\n",
       "      <td>NMBR</td>\n",
       "      <td>RACE</td>\n",
       "      <td>AIAN</td>\n",
       "      <td>NaN</td>\n",
       "      <td>NaN</td>\n",
       "      <td>NaN</td>\n",
       "      <td>NaN</td>\n",
       "    </tr>\n",
       "    <tr>\n",
       "      <th>freq</th>\n",
       "      <td>NaN</td>\n",
       "      <td>NaN</td>\n",
       "      <td>424</td>\n",
       "      <td>424</td>\n",
       "      <td>17520</td>\n",
       "      <td>2544</td>\n",
       "      <td>NaN</td>\n",
       "      <td>11680</td>\n",
       "      <td>5840</td>\n",
       "      <td>NaN</td>\n",
       "      <td>...</td>\n",
       "      <td>22358</td>\n",
       "      <td>2544</td>\n",
       "      <td>NaN</td>\n",
       "      <td>5840</td>\n",
       "      <td>14800</td>\n",
       "      <td>2740</td>\n",
       "      <td>NaN</td>\n",
       "      <td>NaN</td>\n",
       "      <td>NaN</td>\n",
       "      <td>NaN</td>\n",
       "    </tr>\n",
       "    <tr>\n",
       "      <th>mean</th>\n",
       "      <td>2016.650863</td>\n",
       "      <td>2019.785312</td>\n",
       "      <td>NaN</td>\n",
       "      <td>NaN</td>\n",
       "      <td>NaN</td>\n",
       "      <td>NaN</td>\n",
       "      <td>NaN</td>\n",
       "      <td>NaN</td>\n",
       "      <td>NaN</td>\n",
       "      <td>1858.512419</td>\n",
       "      <td>...</td>\n",
       "      <td>NaN</td>\n",
       "      <td>NaN</td>\n",
       "      <td>NaN</td>\n",
       "      <td>NaN</td>\n",
       "      <td>NaN</td>\n",
       "      <td>NaN</td>\n",
       "      <td>NaN</td>\n",
       "      <td>NaN</td>\n",
       "      <td>NaN</td>\n",
       "      <td>NaN</td>\n",
       "    </tr>\n",
       "    <tr>\n",
       "      <th>std</th>\n",
       "      <td>2.280745</td>\n",
       "      <td>0.836649</td>\n",
       "      <td>NaN</td>\n",
       "      <td>NaN</td>\n",
       "      <td>NaN</td>\n",
       "      <td>NaN</td>\n",
       "      <td>NaN</td>\n",
       "      <td>NaN</td>\n",
       "      <td>NaN</td>\n",
       "      <td>22837.865220</td>\n",
       "      <td>...</td>\n",
       "      <td>NaN</td>\n",
       "      <td>NaN</td>\n",
       "      <td>NaN</td>\n",
       "      <td>NaN</td>\n",
       "      <td>NaN</td>\n",
       "      <td>NaN</td>\n",
       "      <td>NaN</td>\n",
       "      <td>NaN</td>\n",
       "      <td>NaN</td>\n",
       "      <td>NaN</td>\n",
       "    </tr>\n",
       "    <tr>\n",
       "      <th>min</th>\n",
       "      <td>2015.000000</td>\n",
       "      <td>2019.000000</td>\n",
       "      <td>NaN</td>\n",
       "      <td>NaN</td>\n",
       "      <td>NaN</td>\n",
       "      <td>NaN</td>\n",
       "      <td>NaN</td>\n",
       "      <td>NaN</td>\n",
       "      <td>NaN</td>\n",
       "      <td>0.700000</td>\n",
       "      <td>...</td>\n",
       "      <td>NaN</td>\n",
       "      <td>NaN</td>\n",
       "      <td>NaN</td>\n",
       "      <td>NaN</td>\n",
       "      <td>NaN</td>\n",
       "      <td>NaN</td>\n",
       "      <td>NaN</td>\n",
       "      <td>NaN</td>\n",
       "      <td>NaN</td>\n",
       "      <td>NaN</td>\n",
       "    </tr>\n",
       "    <tr>\n",
       "      <th>25%</th>\n",
       "      <td>2015.000000</td>\n",
       "      <td>2019.000000</td>\n",
       "      <td>NaN</td>\n",
       "      <td>NaN</td>\n",
       "      <td>NaN</td>\n",
       "      <td>NaN</td>\n",
       "      <td>NaN</td>\n",
       "      <td>NaN</td>\n",
       "      <td>NaN</td>\n",
       "      <td>18.750000</td>\n",
       "      <td>...</td>\n",
       "      <td>NaN</td>\n",
       "      <td>NaN</td>\n",
       "      <td>NaN</td>\n",
       "      <td>NaN</td>\n",
       "      <td>NaN</td>\n",
       "      <td>NaN</td>\n",
       "      <td>NaN</td>\n",
       "      <td>NaN</td>\n",
       "      <td>NaN</td>\n",
       "      <td>NaN</td>\n",
       "    </tr>\n",
       "    <tr>\n",
       "      <th>50%</th>\n",
       "      <td>2016.000000</td>\n",
       "      <td>2020.000000</td>\n",
       "      <td>NaN</td>\n",
       "      <td>NaN</td>\n",
       "      <td>NaN</td>\n",
       "      <td>NaN</td>\n",
       "      <td>NaN</td>\n",
       "      <td>NaN</td>\n",
       "      <td>NaN</td>\n",
       "      <td>60.000000</td>\n",
       "      <td>...</td>\n",
       "      <td>NaN</td>\n",
       "      <td>NaN</td>\n",
       "      <td>NaN</td>\n",
       "      <td>NaN</td>\n",
       "      <td>NaN</td>\n",
       "      <td>NaN</td>\n",
       "      <td>NaN</td>\n",
       "      <td>NaN</td>\n",
       "      <td>NaN</td>\n",
       "      <td>NaN</td>\n",
       "    </tr>\n",
       "    <tr>\n",
       "      <th>75%</th>\n",
       "      <td>2016.000000</td>\n",
       "      <td>2020.000000</td>\n",
       "      <td>NaN</td>\n",
       "      <td>NaN</td>\n",
       "      <td>NaN</td>\n",
       "      <td>NaN</td>\n",
       "      <td>NaN</td>\n",
       "      <td>NaN</td>\n",
       "      <td>NaN</td>\n",
       "      <td>217.900000</td>\n",
       "      <td>...</td>\n",
       "      <td>NaN</td>\n",
       "      <td>NaN</td>\n",
       "      <td>NaN</td>\n",
       "      <td>NaN</td>\n",
       "      <td>NaN</td>\n",
       "      <td>NaN</td>\n",
       "      <td>NaN</td>\n",
       "      <td>NaN</td>\n",
       "      <td>NaN</td>\n",
       "      <td>NaN</td>\n",
       "    </tr>\n",
       "    <tr>\n",
       "      <th>max</th>\n",
       "      <td>2022.000000</td>\n",
       "      <td>2022.000000</td>\n",
       "      <td>NaN</td>\n",
       "      <td>NaN</td>\n",
       "      <td>NaN</td>\n",
       "      <td>NaN</td>\n",
       "      <td>NaN</td>\n",
       "      <td>NaN</td>\n",
       "      <td>NaN</td>\n",
       "      <td>901250.000000</td>\n",
       "      <td>...</td>\n",
       "      <td>NaN</td>\n",
       "      <td>NaN</td>\n",
       "      <td>NaN</td>\n",
       "      <td>NaN</td>\n",
       "      <td>NaN</td>\n",
       "      <td>NaN</td>\n",
       "      <td>NaN</td>\n",
       "      <td>NaN</td>\n",
       "      <td>NaN</td>\n",
       "      <td>NaN</td>\n",
       "    </tr>\n",
       "  </tbody>\n",
       "</table>\n",
       "<p>11 rows × 33 columns</p>\n",
       "</div>"
      ],
      "text/plain": [
       "           YearStart       YearEnd LocationAbbr LocationDesc     DataSource  \\\n",
       "count   22358.000000  22358.000000        22358        22358          22358   \n",
       "unique           NaN           NaN           55           55              2   \n",
       "top              NaN           NaN           OH         Ohio  US Cancer DVT   \n",
       "freq             NaN           NaN          424          424          17520   \n",
       "mean     2016.650863   2019.785312          NaN          NaN            NaN   \n",
       "std         2.280745      0.836649          NaN          NaN            NaN   \n",
       "min      2015.000000   2019.000000          NaN          NaN            NaN   \n",
       "25%      2015.000000   2019.000000          NaN          NaN            NaN   \n",
       "50%      2016.000000   2020.000000          NaN          NaN            NaN   \n",
       "75%      2016.000000   2020.000000          NaN          NaN            NaN   \n",
       "max      2022.000000   2022.000000          NaN          NaN            NaN   \n",
       "\n",
       "                                               Question  Response  \\\n",
       "count                                             22358       0.0   \n",
       "unique                                               10       NaN   \n",
       "top     Invasive cancer (all sites combined), incidence       NaN   \n",
       "freq                                               2544       NaN   \n",
       "mean                                                NaN       NaN   \n",
       "std                                                 NaN       NaN   \n",
       "min                                                 NaN       NaN   \n",
       "25%                                                 NaN       NaN   \n",
       "50%                                                 NaN       NaN   \n",
       "75%                                                 NaN       NaN   \n",
       "max                                                 NaN       NaN   \n",
       "\n",
       "       DataValueUnit DataValueType      DataValue  ...  TopicID QuestionID  \\\n",
       "count          22358         22358   16499.000000  ...    22358      22358   \n",
       "unique             3             5            NaN  ...        1         10   \n",
       "top      per 100,000        Number            NaN  ...      CAN      CAN07   \n",
       "freq           11680          5840            NaN  ...    22358       2544   \n",
       "mean             NaN           NaN    1858.512419  ...      NaN        NaN   \n",
       "std              NaN           NaN   22837.865220  ...      NaN        NaN   \n",
       "min              NaN           NaN       0.700000  ...      NaN        NaN   \n",
       "25%              NaN           NaN      18.750000  ...      NaN        NaN   \n",
       "50%              NaN           NaN      60.000000  ...      NaN        NaN   \n",
       "75%              NaN           NaN     217.900000  ...      NaN        NaN   \n",
       "max              NaN           NaN  901250.000000  ...      NaN        NaN   \n",
       "\n",
       "       ResponseID  DataValueTypeID  StratificationCategoryID1  \\\n",
       "count         0.0            22358                      22358   \n",
       "unique        NaN                5                          3   \n",
       "top           NaN             NMBR                       RACE   \n",
       "freq          NaN             5840                      14800   \n",
       "mean          NaN              NaN                        NaN   \n",
       "std           NaN              NaN                        NaN   \n",
       "min           NaN              NaN                        NaN   \n",
       "25%           NaN              NaN                        NaN   \n",
       "50%           NaN              NaN                        NaN   \n",
       "75%           NaN              NaN                        NaN   \n",
       "max           NaN              NaN                        NaN   \n",
       "\n",
       "       StratificationID1 StratificationCategoryID2  StratificationID2  \\\n",
       "count              22358                       0.0                0.0   \n",
       "unique                11                       NaN                NaN   \n",
       "top                 AIAN                       NaN                NaN   \n",
       "freq                2740                       NaN                NaN   \n",
       "mean                 NaN                       NaN                NaN   \n",
       "std                  NaN                       NaN                NaN   \n",
       "min                  NaN                       NaN                NaN   \n",
       "25%                  NaN                       NaN                NaN   \n",
       "50%                  NaN                       NaN                NaN   \n",
       "75%                  NaN                       NaN                NaN   \n",
       "max                  NaN                       NaN                NaN   \n",
       "\n",
       "        StratificationCategoryID3  StratificationID3  \n",
       "count                         0.0                0.0  \n",
       "unique                        NaN                NaN  \n",
       "top                           NaN                NaN  \n",
       "freq                          NaN                NaN  \n",
       "mean                          NaN                NaN  \n",
       "std                           NaN                NaN  \n",
       "min                           NaN                NaN  \n",
       "25%                           NaN                NaN  \n",
       "50%                           NaN                NaN  \n",
       "75%                           NaN                NaN  \n",
       "max                           NaN                NaN  \n",
       "\n",
       "[11 rows x 33 columns]"
      ]
     },
     "execution_count": 546,
     "metadata": {},
     "output_type": "execute_result"
    }
   ],
   "source": [
    "cancer.describe(include=\"all\")"
   ]
  },
  {
   "cell_type": "code",
   "execution_count": 547,
   "id": "edbfeb86",
   "metadata": {},
   "outputs": [
    {
     "data": {
      "text/plain": [
       "112      1970-01-01 00:00:00.000002019\n",
       "113      1970-01-01 00:00:00.000002019\n",
       "114      1970-01-01 00:00:00.000002019\n",
       "115      1970-01-01 00:00:00.000002019\n",
       "116      1970-01-01 00:00:00.000002020\n",
       "                      ...             \n",
       "309138   1970-01-01 00:00:00.000002022\n",
       "309156   1970-01-01 00:00:00.000002022\n",
       "309160   1970-01-01 00:00:00.000002022\n",
       "309170   1970-01-01 00:00:00.000002022\n",
       "309179   1970-01-01 00:00:00.000002022\n",
       "Name: YearEnd, Length: 22358, dtype: datetime64[ns]"
      ]
     },
     "execution_count": 547,
     "metadata": {},
     "output_type": "execute_result"
    }
   ],
   "source": [
    "pd.to_datetime(cancer['YearStart'], errors='coerce')\n",
    "pd.to_datetime(cancer['YearEnd'], errors='coerce')"
   ]
  },
  {
   "cell_type": "code",
   "execution_count": 548,
   "id": "b0c8b27d",
   "metadata": {},
   "outputs": [],
   "source": [
    "numeric = cancer.select_dtypes('number')"
   ]
  },
  {
   "cell_type": "code",
   "execution_count": 549,
   "id": "7b322ffd",
   "metadata": {},
   "outputs": [
    {
     "data": {
      "text/plain": [
       "['StratificationCategory2',\n",
       " 'Stratification2',\n",
       " 'StratificationCategory3',\n",
       " 'Stratification3',\n",
       " 'StratificationCategoryID2',\n",
       " 'StratificationID2',\n",
       " 'StratificationCategoryID3',\n",
       " 'StratificationID3']"
      ]
     },
     "execution_count": 549,
     "metadata": {},
     "output_type": "execute_result"
    }
   ],
   "source": [
    "\n",
    "filtering_stratification = []\n",
    "for col in numeric.columns:\n",
    "    if 'stratification' in col.lower():\n",
    "        filtering_stratification.append(col)\n",
    "filtering_stratification"
   ]
  },
  {
   "cell_type": "code",
   "execution_count": 550,
   "id": "eb01f07b",
   "metadata": {},
   "outputs": [
    {
     "data": {
      "text/plain": [
       "<Axes: >"
      ]
     },
     "execution_count": 550,
     "metadata": {},
     "output_type": "execute_result"
    },
    {
     "data": {
      "image/png": "[encoded data removed]",
      "text/plain": [
       "<Figure size 640x480 with 2 Axes>"
      ]
     },
     "metadata": {},
     "output_type": "display_data"
    }
   ],
   "source": [
    "numeric = numeric.drop(columns= filtering_stratification)\n",
    "numeric = numeric.drop(columns= ['Response', 'ResponseID', 'LocationID'])\n",
    "sns.heatmap(numeric.corr(), annot=True, cmap='coolwarm')"
   ]
  },
  {
   "cell_type": "code",
   "execution_count": 551,
   "id": "51bdc83c",
   "metadata": {},
   "outputs": [
    {
     "data": {
      "text/html": [
       "<div>\n",
       "<style scoped>\n",
       "    .dataframe tbody tr th:only-of-type {\n",
       "        vertical-align: middle;\n",
       "    }\n",
       "\n",
       "    .dataframe tbody tr th {\n",
       "        vertical-align: top;\n",
       "    }\n",
       "\n",
       "    .dataframe thead th {\n",
       "        text-align: right;\n",
       "    }\n",
       "</style>\n",
       "<table border=\"1\" class=\"dataframe\">\n",
       "  <thead>\n",
       "    <tr style=\"text-align: right;\">\n",
       "      <th></th>\n",
       "      <th>YearStart</th>\n",
       "      <th>YearEnd</th>\n",
       "      <th>DataValue</th>\n",
       "      <th>DataValueAlt</th>\n",
       "      <th>LowConfidenceLimit</th>\n",
       "      <th>HighConfidenceLimit</th>\n",
       "    </tr>\n",
       "  </thead>\n",
       "  <tbody>\n",
       "    <tr>\n",
       "      <th>112</th>\n",
       "      <td>2015</td>\n",
       "      <td>2019</td>\n",
       "      <td>34395.0</td>\n",
       "      <td>34395.0</td>\n",
       "      <td>NaN</td>\n",
       "      <td>NaN</td>\n",
       "    </tr>\n",
       "    <tr>\n",
       "      <th>113</th>\n",
       "      <td>2015</td>\n",
       "      <td>2019</td>\n",
       "      <td>123.1</td>\n",
       "      <td>123.1</td>\n",
       "      <td>100.5</td>\n",
       "      <td>149.1</td>\n",
       "    </tr>\n",
       "  </tbody>\n",
       "</table>\n",
       "</div>"
      ],
      "text/plain": [
       "     YearStart  YearEnd  DataValue  DataValueAlt  LowConfidenceLimit  \\\n",
       "112       2015     2019    34395.0       34395.0                 NaN   \n",
       "113       2015     2019      123.1         123.1               100.5   \n",
       "\n",
       "     HighConfidenceLimit  \n",
       "112                  NaN  \n",
       "113                149.1  "
      ]
     },
     "execution_count": 551,
     "metadata": {},
     "output_type": "execute_result"
    }
   ],
   "source": [
    "numeric.head(2)"
   ]
  },
  {
   "cell_type": "code",
   "execution_count": 552,
   "id": "48714619",
   "metadata": {},
   "outputs": [
    {
     "data": {
      "text/plain": [
       "YearStart                  0\n",
       "YearEnd                    0\n",
       "DataValue               5859\n",
       "DataValueAlt            5859\n",
       "LowConfidenceLimit     10503\n",
       "HighConfidenceLimit    10503\n",
       "dtype: int64"
      ]
     },
     "execution_count": 552,
     "metadata": {},
     "output_type": "execute_result"
    }
   ],
   "source": [
    "numeric.isna().sum()"
   ]
  },
  {
   "cell_type": "code",
   "execution_count": 553,
   "id": "29459bc1",
   "metadata": {},
   "outputs": [
    {
     "data": {
      "text/html": [
       "<div>\n",
       "<style scoped>\n",
       "    .dataframe tbody tr th:only-of-type {\n",
       "        vertical-align: middle;\n",
       "    }\n",
       "\n",
       "    .dataframe tbody tr th {\n",
       "        vertical-align: top;\n",
       "    }\n",
       "\n",
       "    .dataframe thead th {\n",
       "        text-align: right;\n",
       "    }\n",
       "</style>\n",
       "<table border=\"1\" class=\"dataframe\">\n",
       "  <thead>\n",
       "    <tr style=\"text-align: right;\">\n",
       "      <th></th>\n",
       "      <th>YearStart</th>\n",
       "      <th>YearEnd</th>\n",
       "      <th>DataValue</th>\n",
       "      <th>DataValueAlt</th>\n",
       "      <th>LowConfidenceLimit</th>\n",
       "      <th>HighConfidenceLimit</th>\n",
       "    </tr>\n",
       "  </thead>\n",
       "  <tbody>\n",
       "    <tr>\n",
       "      <th>113</th>\n",
       "      <td>2015</td>\n",
       "      <td>2019</td>\n",
       "      <td>123.1</td>\n",
       "      <td>123.1</td>\n",
       "      <td>100.5</td>\n",
       "      <td>149.1</td>\n",
       "    </tr>\n",
       "    <tr>\n",
       "      <th>114</th>\n",
       "      <td>2015</td>\n",
       "      <td>2019</td>\n",
       "      <td>12.2</td>\n",
       "      <td>12.2</td>\n",
       "      <td>11.0</td>\n",
       "      <td>13.5</td>\n",
       "    </tr>\n",
       "  </tbody>\n",
       "</table>\n",
       "</div>"
      ],
      "text/plain": [
       "     YearStart  YearEnd  DataValue  DataValueAlt  LowConfidenceLimit  \\\n",
       "113       2015     2019      123.1         123.1               100.5   \n",
       "114       2015     2019       12.2          12.2                11.0   \n",
       "\n",
       "     HighConfidenceLimit  \n",
       "113                149.1  \n",
       "114                 13.5  "
      ]
     },
     "execution_count": 553,
     "metadata": {},
     "output_type": "execute_result"
    }
   ],
   "source": [
    "numeric.dropna(inplace=True)\n",
    "numeric.head(2)"
   ]
  },
  {
   "cell_type": "code",
   "execution_count": 554,
   "id": "254f6144",
   "metadata": {},
   "outputs": [
    {
     "data": {
      "text/plain": [
       "(11855, 6)"
      ]
     },
     "execution_count": 554,
     "metadata": {},
     "output_type": "execute_result"
    }
   ],
   "source": [
    "numeric.shape"
   ]
  },
  {
   "cell_type": "code",
   "execution_count": 555,
   "id": "becc9a0b",
   "metadata": {},
   "outputs": [
    {
     "data": {
      "text/plain": [
       "<Axes: >"
      ]
     },
     "execution_count": 555,
     "metadata": {},
     "output_type": "execute_result"
    },
    {
     "data": {
      "image/png": "[encoded data removed]",
      "text/plain": [
       "<Figure size 640x480 with 2 Axes>"
      ]
     },
     "metadata": {},
     "output_type": "display_data"
    }
   ],
   "source": [
    "sns.heatmap(numeric.corr(), annot=True, cmap='coolwarm')"
   ]
  },
  {
   "cell_type": "code",
   "execution_count": 556,
   "metadata": {},
   "outputs": [
    {
     "data": {
      "text/html": [
       "<div>\n",
       "<style scoped>\n",
       "    .dataframe tbody tr th:only-of-type {\n",
       "        vertical-align: middle;\n",
       "    }\n",
       "\n",
       "    .dataframe tbody tr th {\n",
       "        vertical-align: top;\n",
       "    }\n",
       "\n",
       "    .dataframe thead th {\n",
       "        text-align: right;\n",
       "    }\n",
       "</style>\n",
       "<table border=\"1\" class=\"dataframe\">\n",
       "  <thead>\n",
       "    <tr style=\"text-align: right;\">\n",
       "      <th></th>\n",
       "      <th>YearStart</th>\n",
       "      <th>YearEnd</th>\n",
       "      <th>DataValue</th>\n",
       "      <th>DataValueAlt</th>\n",
       "      <th>LowConfidenceLimit</th>\n",
       "      <th>HighConfidenceLimit</th>\n",
       "    </tr>\n",
       "  </thead>\n",
       "  <tbody>\n",
       "    <tr>\n",
       "      <th>count</th>\n",
       "      <td>11855.000000</td>\n",
       "      <td>11855.000000</td>\n",
       "      <td>11855.000000</td>\n",
       "      <td>11855.000000</td>\n",
       "      <td>11855.000000</td>\n",
       "      <td>11855.000000</td>\n",
       "    </tr>\n",
       "    <tr>\n",
       "      <th>mean</th>\n",
       "      <td>2016.651033</td>\n",
       "      <td>2019.784901</td>\n",
       "      <td>100.082109</td>\n",
       "      <td>100.082109</td>\n",
       "      <td>95.438094</td>\n",
       "      <td>104.919772</td>\n",
       "    </tr>\n",
       "    <tr>\n",
       "      <th>std</th>\n",
       "      <td>2.282210</td>\n",
       "      <td>0.837451</td>\n",
       "      <td>144.343883</td>\n",
       "      <td>144.343883</td>\n",
       "      <td>142.222331</td>\n",
       "      <td>147.013233</td>\n",
       "    </tr>\n",
       "    <tr>\n",
       "      <th>min</th>\n",
       "      <td>2015.000000</td>\n",
       "      <td>2019.000000</td>\n",
       "      <td>0.700000</td>\n",
       "      <td>0.700000</td>\n",
       "      <td>0.400000</td>\n",
       "      <td>1.100000</td>\n",
       "    </tr>\n",
       "    <tr>\n",
       "      <th>25%</th>\n",
       "      <td>2015.000000</td>\n",
       "      <td>2019.000000</td>\n",
       "      <td>17.200000</td>\n",
       "      <td>17.200000</td>\n",
       "      <td>15.600000</td>\n",
       "      <td>18.800000</td>\n",
       "    </tr>\n",
       "    <tr>\n",
       "      <th>50%</th>\n",
       "      <td>2016.000000</td>\n",
       "      <td>2020.000000</td>\n",
       "      <td>46.000000</td>\n",
       "      <td>46.000000</td>\n",
       "      <td>40.400000</td>\n",
       "      <td>51.900000</td>\n",
       "    </tr>\n",
       "    <tr>\n",
       "      <th>75%</th>\n",
       "      <td>2016.000000</td>\n",
       "      <td>2020.000000</td>\n",
       "      <td>86.900000</td>\n",
       "      <td>86.900000</td>\n",
       "      <td>81.800000</td>\n",
       "      <td>92.800000</td>\n",
       "    </tr>\n",
       "    <tr>\n",
       "      <th>max</th>\n",
       "      <td>2022.000000</td>\n",
       "      <td>2022.000000</td>\n",
       "      <td>1089.400000</td>\n",
       "      <td>1089.400000</td>\n",
       "      <td>940.000000</td>\n",
       "      <td>1255.800000</td>\n",
       "    </tr>\n",
       "  </tbody>\n",
       "</table>\n",
       "</div>"
      ],
      "text/plain": [
       "          YearStart       YearEnd     DataValue  DataValueAlt  \\\n",
       "count  11855.000000  11855.000000  11855.000000  11855.000000   \n",
       "mean    2016.651033   2019.784901    100.082109    100.082109   \n",
       "std        2.282210      0.837451    144.343883    144.343883   \n",
       "min     2015.000000   2019.000000      0.700000      0.700000   \n",
       "25%     2015.000000   2019.000000     17.200000     17.200000   \n",
       "50%     2016.000000   2020.000000     46.000000     46.000000   \n",
       "75%     2016.000000   2020.000000     86.900000     86.900000   \n",
       "max     2022.000000   2022.000000   1089.400000   1089.400000   \n",
       "\n",
       "       LowConfidenceLimit  HighConfidenceLimit  \n",
       "count        11855.000000         11855.000000  \n",
       "mean            95.438094           104.919772  \n",
       "std            142.222331           147.013233  \n",
       "min              0.400000             1.100000  \n",
       "25%             15.600000            18.800000  \n",
       "50%             40.400000            51.900000  \n",
       "75%             81.800000            92.800000  \n",
       "max            940.000000          1255.800000  "
      ]
     },
     "execution_count": 556,
     "metadata": {},
     "output_type": "execute_result"
    }
   ],
   "source": [
    "numeric.describe()"
   ]
  },
  {
   "cell_type": "code",
   "execution_count": 557,
   "id": "5121b590",
   "metadata": {},
   "outputs": [
    {
     "data": {
      "image/png": "[encoded data removed]",
      "text/plain": [
       "<Figure size 640x480 with 1 Axes>"
      ]
     },
     "metadata": {},
     "output_type": "display_data"
    },
    {
     "data": {
      "image/png": "[encoded data removed]",
      "text/plain": [
       "<Figure size 640x480 with 1 Axes>"
      ]
     },
     "metadata": {},
     "output_type": "display_data"
    },
    {
     "data": {
      "image/png": "[encoded data removed]",
      "text/plain": [
       "<Figure size 640x480 with 1 Axes>"
      ]
     },
     "metadata": {},
     "output_type": "display_data"
    },
    {
     "data": {
      "image/png": "[encoded data removed]",
      "text/plain": [
       "<Figure size 640x480 with 1 Axes>"
      ]
     },
     "metadata": {},
     "output_type": "display_data"
    },
    {
     "data": {
      "image/png": "[encoded data removed]",
      "text/plain": [
       "<Figure size 640x480 with 1 Axes>"
      ]
     },
     "metadata": {},
     "output_type": "display_data"
    },
    {
     "data": {
      "image/png": "[encoded data removed]",
      "text/plain": [
       "<Figure size 640x480 with 1 Axes>"
      ]
     },
     "metadata": {},
     "output_type": "display_data"
    }
   ],
   "source": [
    "for i in numeric.columns:\n",
    "    sns.kdeplot(data=numeric, x=i)\n",
    "    plt.title(str(i))\n",
    "    plt.show()"
   ]
  },
  {
   "cell_type": "code",
   "execution_count": 558,
   "id": "74adfcd1",
   "metadata": {},
   "outputs": [
    {
     "data": {
      "text/plain": [
       "Index(['LocationAbbr', 'LocationDesc', 'DataSource', 'Question',\n",
       "       'DataValueUnit', 'DataValueType', 'DataValueFootnoteSymbol',\n",
       "       'DataValueFootnote', 'StratificationCategory1', 'Stratification1',\n",
       "       'Geolocation', 'TopicID', 'QuestionID', 'DataValueTypeID',\n",
       "       'StratificationCategoryID1', 'StratificationID1'],\n",
       "      dtype='object')"
      ]
     },
     "execution_count": 558,
     "metadata": {},
     "output_type": "execute_result"
    }
   ],
   "source": [
    "non_numeric = cancer.select_dtypes(exclude='number')\n",
    "non_numeric.columns"
   ]
  },
  {
   "cell_type": "code",
   "execution_count": 559,
   "id": "04ce89cd",
   "metadata": {},
   "outputs": [
    {
     "name": "stdout",
     "output_type": "stream",
     "text": [
      "Column 'DataValueFootnoteSymbol' has 16499 missing values.\n",
      "Column 'DataValueFootnote' has 16499 missing values.\n",
      "Column 'Geolocation' has 422 missing values.\n"
     ]
    },
    {
     "data": {
      "text/plain": [
       "['DataValueFootnoteSymbol', 'DataValueFootnote', 'Geolocation']"
      ]
     },
     "execution_count": 559,
     "metadata": {},
     "output_type": "execute_result"
    }
   ],
   "source": [
    "missingcats = []\n",
    "\n",
    "for col in non_numeric.columns:\n",
    "    if non_numeric[col].isna().sum() > 0:\n",
    "        print(f\"Column '{col}' has {non_numeric[col].isna().sum()} missing values.\")\n",
    "        missingcats.append(col)\n",
    "        \n",
    "missingcats"
   ]
  },
  {
   "cell_type": "code",
   "execution_count": 560,
   "id": "13888354",
   "metadata": {},
   "outputs": [],
   "source": [
    "non_numeric.drop(columns=missingcats, inplace=True)\n"
   ]
  },
  {
   "cell_type": "code",
   "execution_count": 561,
   "id": "c83a85e2",
   "metadata": {},
   "outputs": [],
   "source": [
    "filtering_id = []\n",
    "for col in non_numeric.columns:\n",
    "    if 'id' in col.lower():\n",
    "        filtering_id.append(col)\n",
    "non_numeric = non_numeric.drop(columns=filtering_id)"
   ]
  },
  {
   "cell_type": "code",
   "execution_count": 562,
   "id": "327dd9f0",
   "metadata": {},
   "outputs": [],
   "source": [
    "non_numeric = non_numeric.drop(columns = ['LocationAbbr'])"
   ]
  },
  {
   "cell_type": "code",
   "execution_count": 563,
   "id": "f1e9c443",
   "metadata": {},
   "outputs": [
    {
     "data": {
      "text/plain": [
       "(22358, 7)"
      ]
     },
     "execution_count": 563,
     "metadata": {},
     "output_type": "execute_result"
    }
   ],
   "source": [
    "non_numeric.shape"
   ]
  },
  {
   "cell_type": "code",
   "execution_count": 564,
   "id": "e560cc71",
   "metadata": {},
   "outputs": [
    {
     "name": "stdout",
     "output_type": "stream",
     "text": [
      "LocationDesc\n",
      "55\n",
      "DataSource\n",
      "2\n",
      "Question\n",
      "10\n",
      "DataValueUnit\n",
      "3\n",
      "DataValueType\n",
      "5\n",
      "StratificationCategory1\n",
      "3\n",
      "Stratification1\n",
      "11\n"
     ]
    }
   ],
   "source": [
    "for col in non_numeric.columns:\n",
    "    print(str(col))\n",
    "    print(len(pd.unique(non_numeric[col])))\n",
    "    \n"
   ]
  },
  {
   "cell_type": "code",
   "execution_count": 565,
   "id": "6236ea81",
   "metadata": {},
   "outputs": [
    {
     "data": {
      "text/plain": [
       "LocationDesc\n",
       "Ohio            0.018964\n",
       "Idaho           0.018964\n",
       "Wyoming         0.018964\n",
       "Arkansas        0.018964\n",
       "New Jersey      0.018964\n",
       "Colorado        0.018964\n",
       "Alabama         0.018964\n",
       "New York        0.018964\n",
       "North Dakota    0.018964\n",
       "Texas           0.018964\n",
       "Name: proportion, dtype: float64"
      ]
     },
     "execution_count": 565,
     "metadata": {},
     "output_type": "execute_result"
    }
   ],
   "source": [
    "top_locations = non_numeric['LocationDesc'].value_counts(sort=True, normalize=True).head(10)\n",
    "top_locations"
   ]
  },
  {
   "cell_type": "code",
   "execution_count": 566,
   "id": "7cfbc3fe",
   "metadata": {},
   "outputs": [
    {
     "data": {
      "text/plain": [
       "DataSource\n",
       "US Cancer DVT    17520\n",
       "BRFSS             4838\n",
       "Name: count, dtype: int64"
      ]
     },
     "execution_count": 566,
     "metadata": {},
     "output_type": "execute_result"
    }
   ],
   "source": [
    "datasource = non_numeric['DataSource'].value_counts(sort=True).head(10)\n",
    "datasource"
   ]
  },
  {
   "cell_type": "code",
   "execution_count": 573,
   "id": "04452f4e",
   "metadata": {},
   "outputs": [
    {
     "name": "stderr",
     "output_type": "stream",
     "text": [
      "C:\\Users\\User\\AppData\\Local\\Temp\\ipykernel_22212\\2322469785.py:1: FutureWarning: \n",
      "\n",
      "Setting a gradient palette using color= is deprecated and will be removed in v0.14.0. Set `palette='dark:orange'` for the same effect.\n",
      "\n",
      "  sns.barplot(data = cancer, x = 'DataSource', y = 'DataValue', color='orange', hue = 'StratificationCategory1')\n"
     ]
    },
    {
     "data": {
      "text/plain": [
       "<Axes: xlabel='DataSource', ylabel='DataValue'>"
      ]
     },
     "execution_count": 573,
     "metadata": {},
     "output_type": "execute_result"
    },
    {
     "data": {
      "image/png": "[encoded data removed]",
      "text/plain": [
       "<Figure size 640x480 with 1 Axes>"
      ]
     },
     "metadata": {},
     "output_type": "display_data"
    }
   ],
   "source": [
    "sns.barplot(data = cancer, x = 'DataSource', y = 'DataValue', color='orange', hue = 'StratificationCategory1')"
   ]
  },
  {
   "cell_type": "code",
   "execution_count": 570,
   "id": "29efb0a5",
   "metadata": {},
   "outputs": [
    {
     "name": "stdout",
     "output_type": "stream",
     "text": [
      "['Female' 'American Indian or Alaska Native, non-Hispanic'\n",
      " 'White, non-Hispanic' 'Male' 'Asian or Pacific Islander, non-Hispanic'\n",
      " 'Black, non-Hispanic' 'Overall' 'Hispanic' 'Multiracial, non-Hispanic'\n",
      " 'Asian, non-Hispanic' 'Hawaiian or Pacific Islander, non-Hispanic']\n"
     ]
    }
   ],
   "source": [
    "print(pd.unique(cancer['Stratification1']))"
   ]
  },
  {
   "cell_type": "code",
   "execution_count": 590,
   "id": "e6827f5f",
   "metadata": {},
   "outputs": [
    {
     "name": "stderr",
     "output_type": "stream",
     "text": [
      "C:\\Users\\User\\AppData\\Local\\Temp\\ipykernel_22212\\245267357.py:1: FutureWarning: \n",
      "\n",
      "The `ci` parameter is deprecated. Use `errorbar=('ci', 30)` for the same effect.\n",
      "\n",
      "  g = sns.catplot(data = cancer, x = 'Stratification1', y = 'DataValue', kind='bar', aspect= 16/10, ci = 30)\n"
     ]
    },
    {
     "data": {
      "text/plain": [
       "<seaborn.axisgrid.FacetGrid at 0x29f23c3bbf0>"
      ]
     },
     "execution_count": 590,
     "metadata": {},
     "output_type": "execute_result"
    },
    {
     "data": {
      "image/png": "[encoded data removed]",
      "text/plain": [
       "<Figure size 811.111x500 with 1 Axes>"
      ]
     },
     "metadata": {},
     "output_type": "display_data"
    }
   ],
   "source": [
    "g = sns.catplot(data = cancer, x = 'Stratification1', y = 'DataValue', kind='bar', aspect= 16/10, ci = 30)\n",
    "g.set_xticklabels(rotation=90)"
   ]
  }
 ],
 "metadata": {
  "kernelspec": {
   "display_name": "Python 3",
   "language": "python",
   "name": "python3"
  },
  "language_info": {
   "codemirror_mode": {
    "name": "ipython",
    "version": 3
   },
   "file_extension": ".py",
   "mimetype": "text/x-python",
   "name": "python",
   "nbconvert_exporter": "python",
   "pygments_lexer": "ipython3",
   "version": "3.12.9"
  }
 },
 "nbformat": 4,
 "nbformat_minor": 5
}
